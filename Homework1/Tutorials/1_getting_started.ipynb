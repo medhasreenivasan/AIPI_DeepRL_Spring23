{
  "nbformat": 4,
  "nbformat_minor": 0,
  "metadata": {
    "colab": {
      "provenance": []
    },
    "kernelspec": {
      "name": "python3",
      "display_name": "Python 3"
    },
    "language_info": {
      "name": "python"
    }
  },
  "cells": [
    {
      "cell_type": "markdown",
      "source": [
        "# Stable Baselines3 Tutorial - Getting Started\n",
        "\n",
        "Github repo: https://github.com/araffin/rl-tutorial-jnrr19\n",
        "\n",
        "Stable-Baselines3: https://github.com/DLR-RM/stable-baselines3\n",
        "\n",
        "Documentation: https://stable-baselines.readthedocs.io/en/master/\n",
        "\n",
        "RL Baselines3 zoo: https://github.com/DLR-RM/rl-baselines3-zoo\n",
        "\n",
        "\n",
        "[RL Baselines3 Zoo](https://github.com/DLR-RM/rl-baselines3-zoo) is a collection of pre-trained Reinforcement Learning agents using Stable-Baselines3.\n",
        "\n",
        "It also provides basic scripts for training, evaluating agents, tuning hyperparameters and recording videos.\n",
        "\n",
        "\n",
        "## Introduction\n",
        "\n",
        "In this notebook, you will learn the basics for using stable baselines3 library: how to create a RL model, train it and evaluate it. Because all algorithms share the same interface, we will see how simple it is to switch from one algorithm to another.\n",
        "\n",
        "\n",
        "## Install Dependencies and Stable Baselines3 Using Pip\n",
        "\n",
        "List of full dependencies can be found in the [README](https://github.com/DLR-RM/stable-baselines3).\n",
        "\n",
        "\n",
        "```\n",
        "pip install stable-baselines3[extra]\n",
        "```"
      ],
      "metadata": {
        "id": "CnJ1b_THCez2"
      }
    },
    {
      "cell_type": "code",
      "source": [
        "!apt-get update && apt-get install ffmpeg freeglut3-dev xvfb  # For visualization\n",
        "!pip install stable-baselines3[extra] pyglet==1.5.27"
      ],
      "metadata": {
        "colab": {
          "base_uri": "https://localhost:8080/"
        },
        "id": "q4Tq_bCFCU69",
        "outputId": "dcb02f83-7c91-4e6d-e0be-5547671c15a6"
      },
      "execution_count": 3,
      "outputs": [
        {
          "output_type": "stream",
          "name": "stdout",
          "text": [
            "Get:1 https://cloud.r-project.org/bin/linux/ubuntu focal-cran40/ InRelease [3,622 B]\n",
            "Ign:2 https://developer.download.nvidia.com/compute/machine-learning/repos/ubuntu2004/x86_64  InRelease\n",
            "Hit:3 https://developer.download.nvidia.com/compute/cuda/repos/ubuntu2004/x86_64  InRelease\n",
            "Hit:4 https://developer.download.nvidia.com/compute/machine-learning/repos/ubuntu2004/x86_64  Release\n",
            "Hit:5 http://archive.ubuntu.com/ubuntu focal InRelease\n",
            "Get:6 http://security.ubuntu.com/ubuntu focal-security InRelease [114 kB]\n",
            "Get:8 http://archive.ubuntu.com/ubuntu focal-updates InRelease [114 kB]\n",
            "Hit:9 http://ppa.launchpad.net/c2d4u.team/c2d4u4.0+/ubuntu focal InRelease\n",
            "Hit:10 http://ppa.launchpad.net/cran/libgit2/ubuntu focal InRelease\n",
            "Hit:11 http://ppa.launchpad.net/deadsnakes/ppa/ubuntu focal InRelease\n",
            "Get:12 http://archive.ubuntu.com/ubuntu focal-backports InRelease [108 kB]\n",
            "Get:13 http://security.ubuntu.com/ubuntu focal-security/main amd64 Packages [2,448 kB]\n",
            "Get:14 http://archive.ubuntu.com/ubuntu focal-updates/main amd64 Packages [2,924 kB]\n",
            "Hit:15 http://ppa.launchpad.net/graphics-drivers/ppa/ubuntu focal InRelease\n",
            "Get:16 http://security.ubuntu.com/ubuntu focal-security/universe amd64 Packages [991 kB]\n",
            "Get:17 http://archive.ubuntu.com/ubuntu focal-updates/universe amd64 Packages [1,291 kB]\n",
            "Fetched 7,993 kB in 4s (2,232 kB/s)\n",
            "Reading package lists... Done\n",
            "Reading package lists... Done\n",
            "Building dependency tree       \n",
            "Reading state information... Done\n",
            "ffmpeg is already the newest version (7:4.2.7-0ubuntu0.1).\n",
            "The following package was automatically installed and is no longer required:\n",
            "  libnvidia-common-510\n",
            "Use 'apt autoremove' to remove it.\n",
            "The following additional packages will be installed:\n",
            "  freeglut3 xserver-common\n",
            "Recommended packages:\n",
            "  xfonts-base\n",
            "The following NEW packages will be installed:\n",
            "  freeglut3 freeglut3-dev xvfb\n",
            "The following packages will be upgraded:\n",
            "  xserver-common\n",
            "1 upgraded, 3 newly installed, 0 to remove and 32 not upgraded.\n",
            "Need to get 1,005 kB of archives.\n",
            "After this operation, 3,350 kB of additional disk space will be used.\n",
            "Get:1 http://archive.ubuntu.com/ubuntu focal/universe amd64 freeglut3 amd64 2.8.1-3 [73.6 kB]\n",
            "Get:2 http://archive.ubuntu.com/ubuntu focal/universe amd64 freeglut3-dev amd64 2.8.1-3 [124 kB]\n",
            "Get:3 http://archive.ubuntu.com/ubuntu focal-updates/main amd64 xserver-common all 2:1.20.13-1ubuntu1~20.04.6 [27.1 kB]\n",
            "Get:4 http://archive.ubuntu.com/ubuntu focal-updates/universe amd64 xvfb amd64 2:1.20.13-1ubuntu1~20.04.6 [780 kB]\n",
            "Fetched 1,005 kB in 2s (515 kB/s)\n",
            "Selecting previously unselected package freeglut3:amd64.\n",
            "(Reading database ... 129501 files and directories currently installed.)\n",
            "Preparing to unpack .../freeglut3_2.8.1-3_amd64.deb ...\n",
            "Unpacking freeglut3:amd64 (2.8.1-3) ...\n",
            "Selecting previously unselected package freeglut3-dev:amd64.\n",
            "Preparing to unpack .../freeglut3-dev_2.8.1-3_amd64.deb ...\n",
            "Unpacking freeglut3-dev:amd64 (2.8.1-3) ...\n",
            "Preparing to unpack .../xserver-common_2%3a1.20.13-1ubuntu1~20.04.6_all.deb ...\n",
            "Unpacking xserver-common (2:1.20.13-1ubuntu1~20.04.6) over (2:1.20.13-1ubuntu1~20.04.5) ...\n",
            "Selecting previously unselected package xvfb.\n",
            "Preparing to unpack .../xvfb_2%3a1.20.13-1ubuntu1~20.04.6_amd64.deb ...\n",
            "Unpacking xvfb (2:1.20.13-1ubuntu1~20.04.6) ...\n",
            "Setting up freeglut3:amd64 (2.8.1-3) ...\n",
            "Setting up freeglut3-dev:amd64 (2.8.1-3) ...\n",
            "Setting up xserver-common (2:1.20.13-1ubuntu1~20.04.6) ...\n",
            "Setting up xvfb (2:1.20.13-1ubuntu1~20.04.6) ...\n",
            "Processing triggers for man-db (2.9.1-1) ...\n",
            "Processing triggers for libc-bin (2.31-0ubuntu9.9) ...\n",
            "Looking in indexes: https://pypi.org/simple, https://us-python.pkg.dev/colab-wheels/public/simple/\n",
            "Requirement already satisfied: stable-baselines3[extra] in /usr/local/lib/python3.8/dist-packages (1.7.0)\n",
            "Collecting pyglet==1.5.27\n",
            "  Downloading pyglet-1.5.27-py3-none-any.whl (1.1 MB)\n",
            "\u001b[2K     \u001b[90m━━━━━━━━━━━━━━━━━━━━━━━━━━━━━━━━━━━━━━━━\u001b[0m \u001b[32m1.1/1.1 MB\u001b[0m \u001b[31m15.6 MB/s\u001b[0m eta \u001b[36m0:00:00\u001b[0m\n",
            "\u001b[?25hRequirement already satisfied: gym==0.21 in /usr/local/lib/python3.8/dist-packages (from stable-baselines3[extra]) (0.21.0)\n",
            "Requirement already satisfied: importlib-metadata~=4.13 in /usr/local/lib/python3.8/dist-packages (from stable-baselines3[extra]) (4.13.0)\n",
            "Requirement already satisfied: torch>=1.11 in /usr/local/lib/python3.8/dist-packages (from stable-baselines3[extra]) (1.13.1+cu116)\n",
            "Requirement already satisfied: matplotlib in /usr/local/lib/python3.8/dist-packages (from stable-baselines3[extra]) (3.2.2)\n",
            "Requirement already satisfied: cloudpickle in /usr/local/lib/python3.8/dist-packages (from stable-baselines3[extra]) (2.2.1)\n",
            "Requirement already satisfied: numpy in /usr/local/lib/python3.8/dist-packages (from stable-baselines3[extra]) (1.21.6)\n",
            "Requirement already satisfied: pandas in /usr/local/lib/python3.8/dist-packages (from stable-baselines3[extra]) (1.3.5)\n",
            "Requirement already satisfied: tqdm in /usr/local/lib/python3.8/dist-packages (from stable-baselines3[extra]) (4.64.1)\n",
            "Requirement already satisfied: pillow in /usr/local/lib/python3.8/dist-packages (from stable-baselines3[extra]) (7.1.2)\n",
            "Requirement already satisfied: ale-py==0.7.4 in /usr/local/lib/python3.8/dist-packages (from stable-baselines3[extra]) (0.7.4)\n",
            "Requirement already satisfied: rich in /usr/local/lib/python3.8/dist-packages (from stable-baselines3[extra]) (13.3.1)\n",
            "Requirement already satisfied: psutil in /usr/local/lib/python3.8/dist-packages (from stable-baselines3[extra]) (5.4.8)\n",
            "Requirement already satisfied: autorom[accept-rom-license]~=0.4.2 in /usr/local/lib/python3.8/dist-packages (from stable-baselines3[extra]) (0.4.2)\n",
            "Requirement already satisfied: opencv-python in /usr/local/lib/python3.8/dist-packages (from stable-baselines3[extra]) (4.6.0.66)\n",
            "Requirement already satisfied: tensorboard>=2.9.1 in /usr/local/lib/python3.8/dist-packages (from stable-baselines3[extra]) (2.9.1)\n",
            "Requirement already satisfied: importlib-resources in /usr/local/lib/python3.8/dist-packages (from ale-py==0.7.4->stable-baselines3[extra]) (5.10.2)\n",
            "Requirement already satisfied: click in /usr/local/lib/python3.8/dist-packages (from autorom[accept-rom-license]~=0.4.2->stable-baselines3[extra]) (7.1.2)\n",
            "Requirement already satisfied: requests in /usr/local/lib/python3.8/dist-packages (from autorom[accept-rom-license]~=0.4.2->stable-baselines3[extra]) (2.25.1)\n",
            "Requirement already satisfied: AutoROM.accept-rom-license in /usr/local/lib/python3.8/dist-packages (from autorom[accept-rom-license]~=0.4.2->stable-baselines3[extra]) (0.5.4)\n",
            "Requirement already satisfied: zipp>=0.5 in /usr/local/lib/python3.8/dist-packages (from importlib-metadata~=4.13->stable-baselines3[extra]) (3.12.0)\n",
            "Requirement already satisfied: markdown>=2.6.8 in /usr/local/lib/python3.8/dist-packages (from tensorboard>=2.9.1->stable-baselines3[extra]) (3.4.1)\n",
            "Requirement already satisfied: tensorboard-plugin-wit>=1.6.0 in /usr/local/lib/python3.8/dist-packages (from tensorboard>=2.9.1->stable-baselines3[extra]) (1.8.1)\n",
            "Requirement already satisfied: absl-py>=0.4 in /usr/local/lib/python3.8/dist-packages (from tensorboard>=2.9.1->stable-baselines3[extra]) (1.4.0)\n",
            "Requirement already satisfied: google-auth-oauthlib<0.5,>=0.4.1 in /usr/local/lib/python3.8/dist-packages (from tensorboard>=2.9.1->stable-baselines3[extra]) (0.4.6)\n",
            "Requirement already satisfied: google-auth<3,>=1.6.3 in /usr/local/lib/python3.8/dist-packages (from tensorboard>=2.9.1->stable-baselines3[extra]) (2.16.0)\n",
            "Requirement already satisfied: wheel>=0.26 in /usr/local/lib/python3.8/dist-packages (from tensorboard>=2.9.1->stable-baselines3[extra]) (0.38.4)\n",
            "Requirement already satisfied: setuptools>=41.0.0 in /usr/local/lib/python3.8/dist-packages (from tensorboard>=2.9.1->stable-baselines3[extra]) (57.4.0)\n",
            "Requirement already satisfied: protobuf<3.20,>=3.9.2 in /usr/local/lib/python3.8/dist-packages (from tensorboard>=2.9.1->stable-baselines3[extra]) (3.19.6)\n",
            "Requirement already satisfied: werkzeug>=1.0.1 in /usr/local/lib/python3.8/dist-packages (from tensorboard>=2.9.1->stable-baselines3[extra]) (1.0.1)\n",
            "Requirement already satisfied: tensorboard-data-server<0.7.0,>=0.6.0 in /usr/local/lib/python3.8/dist-packages (from tensorboard>=2.9.1->stable-baselines3[extra]) (0.6.1)\n",
            "Requirement already satisfied: grpcio>=1.24.3 in /usr/local/lib/python3.8/dist-packages (from tensorboard>=2.9.1->stable-baselines3[extra]) (1.51.1)\n",
            "Requirement already satisfied: typing-extensions in /usr/local/lib/python3.8/dist-packages (from torch>=1.11->stable-baselines3[extra]) (4.4.0)\n",
            "Requirement already satisfied: kiwisolver>=1.0.1 in /usr/local/lib/python3.8/dist-packages (from matplotlib->stable-baselines3[extra]) (1.4.4)\n",
            "Requirement already satisfied: cycler>=0.10 in /usr/local/lib/python3.8/dist-packages (from matplotlib->stable-baselines3[extra]) (0.11.0)\n",
            "Requirement already satisfied: python-dateutil>=2.1 in /usr/local/lib/python3.8/dist-packages (from matplotlib->stable-baselines3[extra]) (2.8.2)\n",
            "Requirement already satisfied: pyparsing!=2.0.4,!=2.1.2,!=2.1.6,>=2.0.1 in /usr/local/lib/python3.8/dist-packages (from matplotlib->stable-baselines3[extra]) (3.0.9)\n",
            "Requirement already satisfied: pytz>=2017.3 in /usr/local/lib/python3.8/dist-packages (from pandas->stable-baselines3[extra]) (2022.7.1)\n",
            "Requirement already satisfied: markdown-it-py<3.0.0,>=2.1.0 in /usr/local/lib/python3.8/dist-packages (from rich->stable-baselines3[extra]) (2.1.0)\n",
            "Requirement already satisfied: pygments<3.0.0,>=2.14.0 in /usr/local/lib/python3.8/dist-packages (from rich->stable-baselines3[extra]) (2.14.0)\n",
            "Requirement already satisfied: six>=1.9.0 in /usr/local/lib/python3.8/dist-packages (from google-auth<3,>=1.6.3->tensorboard>=2.9.1->stable-baselines3[extra]) (1.15.0)\n",
            "Requirement already satisfied: rsa<5,>=3.1.4 in /usr/local/lib/python3.8/dist-packages (from google-auth<3,>=1.6.3->tensorboard>=2.9.1->stable-baselines3[extra]) (4.9)\n",
            "Requirement already satisfied: cachetools<6.0,>=2.0.0 in /usr/local/lib/python3.8/dist-packages (from google-auth<3,>=1.6.3->tensorboard>=2.9.1->stable-baselines3[extra]) (5.3.0)\n",
            "Requirement already satisfied: pyasn1-modules>=0.2.1 in /usr/local/lib/python3.8/dist-packages (from google-auth<3,>=1.6.3->tensorboard>=2.9.1->stable-baselines3[extra]) (0.2.8)\n",
            "Requirement already satisfied: requests-oauthlib>=0.7.0 in /usr/local/lib/python3.8/dist-packages (from google-auth-oauthlib<0.5,>=0.4.1->tensorboard>=2.9.1->stable-baselines3[extra]) (1.3.1)\n",
            "Requirement already satisfied: mdurl~=0.1 in /usr/local/lib/python3.8/dist-packages (from markdown-it-py<3.0.0,>=2.1.0->rich->stable-baselines3[extra]) (0.1.2)\n",
            "Requirement already satisfied: certifi>=2017.4.17 in /usr/local/lib/python3.8/dist-packages (from requests->autorom[accept-rom-license]~=0.4.2->stable-baselines3[extra]) (2022.12.7)\n",
            "Requirement already satisfied: chardet<5,>=3.0.2 in /usr/local/lib/python3.8/dist-packages (from requests->autorom[accept-rom-license]~=0.4.2->stable-baselines3[extra]) (4.0.0)\n",
            "Requirement already satisfied: urllib3<1.27,>=1.21.1 in /usr/local/lib/python3.8/dist-packages (from requests->autorom[accept-rom-license]~=0.4.2->stable-baselines3[extra]) (1.24.3)\n",
            "Requirement already satisfied: idna<3,>=2.5 in /usr/local/lib/python3.8/dist-packages (from requests->autorom[accept-rom-license]~=0.4.2->stable-baselines3[extra]) (2.10)\n",
            "Requirement already satisfied: libtorrent in /usr/local/lib/python3.8/dist-packages (from AutoROM.accept-rom-license->autorom[accept-rom-license]~=0.4.2->stable-baselines3[extra]) (2.0.7)\n",
            "Requirement already satisfied: pyasn1<0.5.0,>=0.4.6 in /usr/local/lib/python3.8/dist-packages (from pyasn1-modules>=0.2.1->google-auth<3,>=1.6.3->tensorboard>=2.9.1->stable-baselines3[extra]) (0.4.8)\n",
            "Requirement already satisfied: oauthlib>=3.0.0 in /usr/local/lib/python3.8/dist-packages (from requests-oauthlib>=0.7.0->google-auth-oauthlib<0.5,>=0.4.1->tensorboard>=2.9.1->stable-baselines3[extra]) (3.2.2)\n",
            "Installing collected packages: pyglet\n",
            "Successfully installed pyglet-1.5.27\n"
          ]
        }
      ]
    },
    {
      "cell_type": "code",
      "source": [
        "import stable_baselines3\n",
        "stable_baselines3.__version__"
      ],
      "metadata": {
        "colab": {
          "base_uri": "https://localhost:8080/",
          "height": 35
        },
        "id": "DBZNdjz-CqJt",
        "outputId": "d055ab6e-2c3d-46ce-ce56-ed885f971860"
      },
      "execution_count": 4,
      "outputs": [
        {
          "output_type": "execute_result",
          "data": {
            "text/plain": [
              "'1.7.0'"
            ],
            "application/vnd.google.colaboratory.intrinsic+json": {
              "type": "string"
            }
          },
          "metadata": {},
          "execution_count": 4
        }
      ]
    },
    {
      "cell_type": "markdown",
      "source": [
        "## Imports"
      ],
      "metadata": {
        "id": "g4WHz9ftDYMF"
      }
    },
    {
      "cell_type": "markdown",
      "source": [
        "Stable-Baselines works on environments that follow the [gym interface](https://stable-baselines.readthedocs.io/en/master/guide/custom_env.html).\n",
        "You can find a list of available environment [here](https://gym.openai.com/envs/#classic_control).\n",
        "\n",
        "It is also recommended to check the [source code](https://github.com/openai/gym) to learn more about the observation and action space of each env, as gym does not have a proper documentation.\n",
        "Not all algorithms can work with all action spaces, you can find more in this [recap table](https://stable-baselines.readthedocs.io/en/master/guide/algos.html)"
      ],
      "metadata": {
        "id": "3twIAEPQDeGn"
      }
    },
    {
      "cell_type": "code",
      "source": [
        "import gym\n",
        "import numpy as np"
      ],
      "metadata": {
        "id": "MaKgBJFIDXFt"
      },
      "execution_count": 5,
      "outputs": []
    },
    {
      "cell_type": "markdown",
      "source": [
        "The first thing you need to import is the RL model, check the documentation to know what you can use on which problem"
      ],
      "metadata": {
        "id": "yeX5aeW9Di_c"
      }
    },
    {
      "cell_type": "code",
      "source": [
        "from stable_baselines3 import PPO"
      ],
      "metadata": {
        "id": "oEDwQOrKDgmM"
      },
      "execution_count": 6,
      "outputs": []
    },
    {
      "cell_type": "markdown",
      "source": [
        "The next thing you need to import is the policy class that will be used to create the networks (for the policy/value functions).\n",
        "This step is optional as you can directly use strings in the constructor: \n",
        "\n",
        "```PPO('MlpPolicy', env)``` instead of ```PPO(MlpPolicy, env)```\n",
        "\n",
        "Note that some algorithms like `SAC` have their own `MlpPolicy`, that's why using string for the policy is the recommened option.\n"
      ],
      "metadata": {
        "id": "OoyaO8krDyeQ"
      }
    },
    {
      "cell_type": "code",
      "source": [
        "from stable_baselines3.ppo import MlpPolicy"
      ],
      "metadata": {
        "id": "VXAXB-shDv5e"
      },
      "execution_count": 7,
      "outputs": []
    },
    {
      "cell_type": "markdown",
      "source": [
        "## Create the Gym env and instantiate the agent\n",
        "\n",
        "For this example, we will use CartPole environment, a classic control problem.\n",
        "\n",
        "\"A pole is attached by an un-actuated joint to a cart, which moves along a frictionless track. The system is controlled by applying a force of +1 or -1 to the cart. The pendulum starts upright, and the goal is to prevent it from falling over. A reward of +1 is provided for every timestep that the pole remains upright. \"\n",
        "\n",
        "Cartpole environment: [https://gym.openai.com/envs/CartPole-v1/](https://gym.openai.com/envs/CartPole-v1/)\n",
        "\n",
        "![Cartpole](https://cdn-images-1.medium.com/max/1143/1*h4WTQNVIsvMXJTCpXm_TAw.gif)\n",
        "\n",
        "Note: vectorized environments allow to easily multiprocess training. In this example, we are using only one process, hence the DummyVecEnv.\n",
        "\n",
        "We chose the MlpPolicy because input of CartPole is a feature vector, not images.\n",
        "\n",
        "The type of action to use (discrete/continuous) will be automatically deduced from the environment action space\n",
        "\n",
        "\n",
        "Here we are using the [Proximal Policy Optimization](https://stable-baselines.readthedocs.io/en/master/modules/ppo2.html) algorithm, which is an Actor-Critic method: it uses a value function to improve the policy gradient descent (by reducing the variance).\n",
        "\n",
        "It combines ideas from [A2C](https://stable-baselines.readthedocs.io/en/master/modules/a2c.html) (having multiple workers and using an entropy bonus for exploration) and [TRPO](https://stable-baselines.readthedocs.io/en/master/modules/trpo.html) (it uses a trust region to improve stability and avoid catastrophic drops in performance).\n",
        "\n",
        "PPO is an on-policy algorithm, which means that the trajectories used to update the networks must be collected using the latest policy.\n",
        "It is usually less sample efficient than off-policy alorithms like [DQN](https://stable-baselines.readthedocs.io/en/master/modules/dqn.html), [SAC](https://stable-baselines.readthedocs.io/en/master/modules/sac.html) or [TD3](https://stable-baselines.readthedocs.io/en/master/modules/td3.html), but is much faster regarding wall-clock time.\n"
      ],
      "metadata": {
        "id": "_H4mSnO8D6Wu"
      }
    },
    {
      "cell_type": "code",
      "source": [
        "env = gym.make('CartPole-v1')\n",
        "\n",
        "model = PPO(MlpPolicy, env, verbose=0)"
      ],
      "metadata": {
        "id": "t3Z_gX2YD4Cz"
      },
      "execution_count": 8,
      "outputs": []
    },
    {
      "cell_type": "markdown",
      "source": [
        "We create a helper function to evaluate the agent:"
      ],
      "metadata": {
        "id": "dGe4Q6KLD_tB"
      }
    },
    {
      "cell_type": "code",
      "source": [
        "def evaluate(model, num_episodes=100, deterministic=True):\n",
        "    \"\"\"\n",
        "    Evaluate a RL agent\n",
        "    :param model: (BaseRLModel object) the RL Agent\n",
        "    :param num_episodes: (int) number of episodes to evaluate it\n",
        "    :return: (float) Mean reward for the last num_episodes\n",
        "    \"\"\"\n",
        "    # This function will only work for a single Environment\n",
        "    env = model.get_env()\n",
        "    all_episode_rewards = []\n",
        "    for i in range(num_episodes):\n",
        "        episode_rewards = []\n",
        "        done = False\n",
        "        obs = env.reset()\n",
        "        while not done:\n",
        "            # _states are only useful when using LSTM policies\n",
        "            action, _states = model.predict(obs, deterministic=deterministic)\n",
        "            # here, action, rewards and dones are arrays\n",
        "            # because we are using vectorized env\n",
        "            obs, reward, done, info = env.step(action)\n",
        "            episode_rewards.append(reward)\n",
        "\n",
        "        all_episode_rewards.append(sum(episode_rewards))\n",
        "\n",
        "    mean_episode_reward = np.mean(all_episode_rewards)\n",
        "    print(\"Mean reward:\", mean_episode_reward, \"Num episodes:\", num_episodes)\n",
        "\n",
        "    return mean_episode_reward"
      ],
      "metadata": {
        "id": "v0MBjRmID9tg"
      },
      "execution_count": 9,
      "outputs": []
    },
    {
      "cell_type": "markdown",
      "source": [
        "In fact, Stable-Baselines3 already provides you with that helper:"
      ],
      "metadata": {
        "id": "yx2Oc3FREDgD"
      }
    },
    {
      "cell_type": "code",
      "source": [
        "from stable_baselines3.common.evaluation import evaluate_policy"
      ],
      "metadata": {
        "id": "ERa6nS36EBH3"
      },
      "execution_count": 10,
      "outputs": []
    },
    {
      "cell_type": "markdown",
      "source": [
        "Let's evaluate the un-trained agent, this should be a random agent."
      ],
      "metadata": {
        "id": "0QIgzzrxELkL"
      }
    },
    {
      "cell_type": "code",
      "source": [
        "# Use a separate environement for evaluation\n",
        "eval_env = gym.make('CartPole-v1')\n",
        "\n",
        "# Random Agent, before training\n",
        "mean_reward, std_reward = evaluate_policy(model, eval_env, n_eval_episodes=100)\n",
        "\n",
        "print(f\"mean_reward:{mean_reward:.2f} +/- {std_reward:.2f}\")"
      ],
      "metadata": {
        "colab": {
          "base_uri": "https://localhost:8080/"
        },
        "id": "_ysQg22BEHWv",
        "outputId": "2712526e-cddf-4456-f097-560b5b974cde"
      },
      "execution_count": 11,
      "outputs": [
        {
          "output_type": "stream",
          "name": "stderr",
          "text": [
            "/usr/local/lib/python3.8/dist-packages/stable_baselines3/common/evaluation.py:67: UserWarning: Evaluation environment is not wrapped with a ``Monitor`` wrapper. This may result in reporting modified episode lengths and rewards, if other wrappers happen to modify these. Consider wrapping environment first with ``Monitor`` wrapper.\n",
            "  warnings.warn(\n"
          ]
        },
        {
          "output_type": "stream",
          "name": "stdout",
          "text": [
            "mean_reward:9.59 +/- 0.66\n"
          ]
        }
      ]
    },
    {
      "cell_type": "markdown",
      "source": [
        "## Train the agent and evaluate it"
      ],
      "metadata": {
        "id": "mff6a7MrEUFx"
      }
    },
    {
      "cell_type": "code",
      "source": [
        "# Train the agent for 10000 steps\n",
        "model.learn(total_timesteps=10000)"
      ],
      "metadata": {
        "colab": {
          "base_uri": "https://localhost:8080/"
        },
        "id": "oArGDA1zENgJ",
        "outputId": "8a921dbd-0d66-4252-cdc6-c521b7430e53"
      },
      "execution_count": 12,
      "outputs": [
        {
          "output_type": "execute_result",
          "data": {
            "text/plain": [
              "<stable_baselines3.ppo.ppo.PPO at 0x7fdd83bb7790>"
            ]
          },
          "metadata": {},
          "execution_count": 12
        }
      ]
    },
    {
      "cell_type": "code",
      "source": [
        "# Evaluate the trained agent\n",
        "mean_reward, std_reward = evaluate_policy(model, eval_env, n_eval_episodes=100)\n",
        "\n",
        "print(f\"mean_reward:{mean_reward:.2f} +/- {std_reward:.2f}\")"
      ],
      "metadata": {
        "colab": {
          "base_uri": "https://localhost:8080/"
        },
        "id": "hQuF4qepEVwh",
        "outputId": "ecae61ed-990e-4880-dbbb-3d818e6b3c95"
      },
      "execution_count": 13,
      "outputs": [
        {
          "output_type": "stream",
          "name": "stdout",
          "text": [
            "mean_reward:347.08 +/- 103.28\n"
          ]
        }
      ]
    },
    {
      "cell_type": "markdown",
      "source": [
        "Apparently the training went well, the mean reward increased a lot ! "
      ],
      "metadata": {
        "id": "vmqCwRPlEazq"
      }
    },
    {
      "cell_type": "markdown",
      "source": [
        "### Prepare video recording"
      ],
      "metadata": {
        "id": "Y-6sZ8niElJT"
      }
    },
    {
      "cell_type": "code",
      "source": [
        "# Set up fake display; otherwise rendering will fail\n",
        "import os\n",
        "os.system(\"Xvfb :1 -screen 0 1024x768x24 &\")\n",
        "os.environ['DISPLAY'] = ':1'"
      ],
      "metadata": {
        "id": "wmrWK2D1EXjM"
      },
      "execution_count": 14,
      "outputs": []
    },
    {
      "cell_type": "code",
      "source": [
        "import base64\n",
        "from pathlib import Path\n",
        "\n",
        "from IPython import display as ipythondisplay\n",
        "\n",
        "\n",
        "def show_videos(video_path='', prefix=''):\n",
        "  \"\"\"\n",
        "  Taken from https://github.com/eleurent/highway-env\n",
        "\n",
        "  :param video_path: (str) Path to the folder containing videos\n",
        "  :param prefix: (str) Filter the video, showing only the only starting with this prefix\n",
        "  \"\"\"\n",
        "  html = []\n",
        "  for mp4 in Path(video_path).glob(\"{}*.mp4\".format(prefix)):\n",
        "      video_b64 = base64.b64encode(mp4.read_bytes())\n",
        "      html.append('''<video alt=\"{}\" autoplay \n",
        "                    loop controls style=\"height: 400px;\">\n",
        "                    <source src=\"data:video/mp4;base64,{}\" type=\"video/mp4\" />\n",
        "                </video>'''.format(mp4, video_b64.decode('ascii')))\n",
        "  ipythondisplay.display(ipythondisplay.HTML(data=\"<br>\".join(html)))"
      ],
      "metadata": {
        "id": "56dsZoY5Emtu"
      },
      "execution_count": 15,
      "outputs": []
    },
    {
      "cell_type": "markdown",
      "source": [
        "We will record a video using the [VecVideoRecorder](https://stable-baselines.readthedocs.io/en/master/guide/vec_envs.html#vecvideorecorder) wrapper, you will learn about those wrapper in the next notebook."
      ],
      "metadata": {
        "id": "RLljOm8SEp4z"
      }
    },
    {
      "cell_type": "code",
      "source": [
        "from stable_baselines3.common.vec_env import VecVideoRecorder, DummyVecEnv\n",
        "\n",
        "\n",
        "def record_video(env_id, model, video_length=500, prefix='', video_folder='videos/'):\n",
        "  \"\"\"\n",
        "  :param env_id: (str)\n",
        "  :param model: (RL model)\n",
        "  :param video_length: (int)\n",
        "  :param prefix: (str)\n",
        "  :param video_folder: (str)\n",
        "  \"\"\"\n",
        "  eval_env = DummyVecEnv([lambda: gym.make('CartPole-v1')])\n",
        "  # Start the video at step=0 and record 500 steps\n",
        "  eval_env = VecVideoRecorder(eval_env, video_folder=video_folder,\n",
        "                              record_video_trigger=lambda step: step == 0, video_length=video_length,\n",
        "                              name_prefix=prefix)\n",
        "\n",
        "  obs = eval_env.reset()\n",
        "  for _ in range(video_length):\n",
        "    action, _ = model.predict(obs)\n",
        "    obs, _, _, _ = eval_env.step(action)\n",
        "\n",
        "  # Close the video recorder\n",
        "  eval_env.close()"
      ],
      "metadata": {
        "id": "54ccQyNlEn4P"
      },
      "execution_count": 16,
      "outputs": []
    },
    {
      "cell_type": "markdown",
      "source": [
        "### Visualize trained agent\n",
        "\n"
      ],
      "metadata": {
        "id": "lL4paGFBEpYm"
      }
    },
    {
      "cell_type": "code",
      "source": [
        "record_video('CartPole-v1', model, video_length=500, prefix='ppo-cartpole')"
      ],
      "metadata": {
        "colab": {
          "base_uri": "https://localhost:8080/"
        },
        "id": "H754p5saEtiT",
        "outputId": "0721a66c-52eb-42cf-9756-3c9e3474dd80"
      },
      "execution_count": 17,
      "outputs": [
        {
          "output_type": "stream",
          "name": "stdout",
          "text": [
            "Saving video to /content/videos/ppo-cartpole-step-0-to-step-500.mp4\n"
          ]
        }
      ]
    },
    {
      "cell_type": "code",
      "source": [
        "show_videos('videos', prefix='ppo')"
      ],
      "metadata": {
        "colab": {
          "base_uri": "https://localhost:8080/",
          "height": 421
        },
        "id": "mULIXo7wEu4-",
        "outputId": "aa8e2646-845d-4eb2-a8ed-776a40e8aaa8"
      },
      "execution_count": 18,
      "outputs": [
        {
          "output_type": "display_data",
          "data": {
            "text/plain": [
              "<IPython.core.display.HTML object>"
            ],
            "text/html": [
              "<video alt=\"videos/ppo-cartpole-step-0-to-step-500.mp4\" autoplay \n",
              "                    loop controls style=\"height: 400px;\">\n",
              "                    <source src=\"data:video/mp4;base64,AAAAIGZ0eXBpc29tAAACAGlzb21pc28yYXZjMW1wNDEAAAAIZnJlZQAAqCltZGF0AAACrgYF//+q3EXpvebZSLeWLNgg2SPu73gyNjQgLSBjb3JlIDE1NSByMjkxNyAwYTg0ZDk4IC0gSC4yNjQvTVBFRy00IEFWQyBjb2RlYyAtIENvcHlsZWZ0IDIwMDMtMjAxOCAtIGh0dHA6Ly93d3cudmlkZW9sYW4ub3JnL3gyNjQuaHRtbCAtIG9wdGlvbnM6IGNhYmFjPTEgcmVmPTMgZGVibG9jaz0xOjA6MCBhbmFseXNlPTB4MzoweDExMyBtZT1oZXggc3VibWU9NyBwc3k9MSBwc3lfcmQ9MS4wMDowLjAwIG1peGVkX3JlZj0xIG1lX3JhbmdlPTE2IGNocm9tYV9tZT0xIHRyZWxsaXM9MSA4eDhkY3Q9MSBjcW09MCBkZWFkem9uZT0yMSwxMSBmYXN0X3Bza2lwPTEgY2hyb21hX3FwX29mZnNldD0tMiB0aHJlYWRzPTMgbG9va2FoZWFkX3RocmVhZHM9MSBzbGljZWRfdGhyZWFkcz0wIG5yPTAgZGVjaW1hdGU9MSBpbnRlcmxhY2VkPTAgYmx1cmF5X2NvbXBhdD0wIGNvbnN0cmFpbmVkX2ludHJhPTAgYmZyYW1lcz0zIGJfcHlyYW1pZD0yIGJfYWRhcHQ9MSBiX2JpYXM9MCBkaXJlY3Q9MSB3ZWlnaHRiPTEgb3Blbl9nb3A9MCB3ZWlnaHRwPTIga2V5aW50PTI1MCBrZXlpbnRfbWluPTI1IHNjZW5lY3V0PTQwIGludHJhX3JlZnJlc2g9MCByY19sb29rYWhlYWQ9NDAgcmM9Y3JmIG1idHJlZT0xIGNyZj0yMy4wIHFjb21wPTAuNjAgcXBtaW49MCBxcG1heD02OSBxcHN0ZXA9NCBpcF9yYXRpbz0xLjQwIGFxPTE6MS4wMACAAAABs2WIhAAv//72rvzLK0cLlS4dWXuzUfLoSXL9iDB9aAAAAwAAAwAAJuKiZ0WFMeJsgAAALmAIWElDyDzETFWKgSvGXyx1CgADmnMABlW2R1KPaYw9X++ZShJZNHntBrPYHrwED6GXdhsoV20XulbgK25kwBumDueOTgMbaGF9QBaqVt6Dw5hHRxlsUh2Qju5LZeClZ+t/FFDzxo0yi0NncelAHswOEBnJzWqSeslIz0b3w0+wXmJDqcpmwFD6z2HQvcbyaD5nZnct8N9CcHEHsEl2HhC1KecO8yPn1ANEiTlhay/mMK8SUQm7DEbEUkIlcx7+GjCoMFN5YKZIOaftEFkF/tuNUrRfR0C3U48oCOR4ivIev4GHyvxsYERe0mCNisorb4TX8p5hycB1U9FVD1pMTVwe5dyaU0mTb0ZoFxaqAUT65tZQCLI+v7Vo+xsFbEQckWbRFVEMjns3lpTCCWx6GDS94e8gt+Jk8Vyv6hrwwDBHvQ12fNDrm+jADygkrhDdATgk43XcJC0Uc0epzMtQXNSGyKU8p2uopC6P9VVS+DP+HdQ6WMWDAAADAAADAAAr4QAAAHhBmiJsQz/+nhAAAEVSLkAVofc/r0DVP3aG0jlc7U8Myo9XVgXDsfo1p9wWXKmv1hAV3hbZJj3KFi4v1SiGGU8Q19vEs9z8OYly5Y30DrwVtNj8hjg1SwSFh32op8WZw89BBjArgSszk114gAAPYEZMftUsOb3KG24AAAA4AZ5BeR//AAAjrpRj/nIzD7AKchACVQNh0uE4FfqiOUD2Spbl6mMwU0BMxeKIAAADADBMhNRlhQUAAACeQZpGPCGTKYQv//6MsAAARiXRKYMXNAHMPTi+lIPHRmXPnHpznsWbBsLP4k8S8ggEPSUroia3XHyz0FZlJAQ/9YRjkyg1MJFjDRMBnrPJeNQ72XL3ZJiOnhg1I7lpqeQc6f06KoeJ+60q3C0Ane76MWC2fmA/SEB9yy9gVpsfvzS8Pc+7xf/Ri0e4SS6Wnsl/7St5Ntuy6IF6t2zM2CAAAAAqQZ5kalPCPwAAFruK0QA9/xqyyAtOYW3w1eIKeCljFDQEcetM2MlOwFjxAAAAIQGeg3RH/wAAJMMHSvMS2Ys/BVObUB2a8e0Jz39O2R4j4QAAAB4BnoVqR/8AACTHt6h+awyN4FwfyHUYNFqdbQmCim0AAABbQZqKSahBaJlMCF///oywAABGAtpZwA6QMLsTCzcqNAuv7OXfNxgDAkcckT6sJACOMXroDl1wK4bQZae2aBY2Lk+elf4gJrxhHhQcB2La/StuxiT1u4Efy/zKgQAAAB5BnqhFESwj/wAAFrxOoXMIyNzUqHU28C9dBs7AFTAAAAAbAZ7HdEf/AAAjuMIEuRFKaVALDdA2AAJnaOD4AAAAGAGeyWpH/wAAI78azzg3KExDXUaAdKoCgwAAAGpBmsxJqEFsmUwUTDP//p4QAAAKRzLo9fiAEILgDkpPMQLPfbY/r8dmThh/C+HUYTbDdh7bPRHsgncVc0zE7om90ddK/i3Dm1BW/5qG+/jSyLbnpSOe2U+EjGCgDC+4QEJ9NxO9c8n4yMmOAAAANAGe62pH/wAABUEoTk21e6On0roTOgBY/2/cZ7+oU2m6TaUXnyhaaYRJDdn+7DvBszPmYEAAAAB8QZrwSeEKUmUwIZ/+nhAAAEVFDTWABxtI2jmbhwWsg3WrPw3Be/YDq9UyY8oSZBUZL/vL7/HfhQ3CktieIISEWzXZmNGlKtuCZj7jh/E+nf3SewHsigJH1eZExy+DtHm0453Fz+pHI8pABtGwLJk4Ew41N0V21H4kwMzfzQAAADBBnw5FNEwj/wAAFrxOcRAoJm+vA3FWEYYVV6qZNzuh5hFwgNk8ByutF6k2XcqswmEAAAAjAZ8tdEf/AAAjtxClj9rwMggYTIzAzszkrUv4L+FhzwhcSoEAAAAmAZ8vakf/AAAjsiYuR3RjgyjKzDtnfc+4kpk052Hee2JrSPE++yQAAAC0QZs0SahBaJlMCGf//p4QAABHRFod6SqVGkAcw+p6xnesQw1FsrZt2QTcJEF+bjlLryFKuYeo4a77V4iNgMhenmEUI8sAnNK6KFl//itA5HFmTaUI+FYE72nwRFt+SmgmYrnnu7Y4yIkFeyG0aAC1Nj5bMumzvH7mAJCmxEnxtzFc7x5szCLV/kD0/U1OtF2UrshrCxYr/Bb/v1OwCqN2A1XvCXbEH00DpVcDWXpGk95luQZAAAAATkGfUkURLCP/AAAXQ0ctw8ohay42LNLrYhe7hcvHfdmS078cTws3BVxZQcI/tH7EmNbNX/0A8bOldruaQAoAw7BrRHUbkXK9zRdUnlcAYQAAAEABn3F0R/8AACTVIQBtlVGGabEHGHcmDMzYj7rcLYuA9b5ZDSROlG08qzvtiTgO0pGjuvbx/eI/2y7wd5IqV8uAAAAAOAGfc2pH/wAAJLHMDUeMUFklEy6RAmXDdqO2OO4Z+KeuxsJb4LwjMRCV2WLujPG4RrmPdf3hrHWLAAAAZkGbeEmoQWyZTAhf//6MsAAASAIpSeALWUtGU1T05OVsB9+3vln5u4DXS8HcOQStUJ02ECja0FDHKpwz5oAmE3oL5yXQBqFYiXhCdXdX/0vzK3nnR8Eps+PCgivG/ot32bk4kjuFgQAAAElBn5ZFFSwj/wAAF0uKd40nH+yNNv0P4ENRVT6PpMu/be5VB1kBADPl6RWsAA+/ckUZjJtP31tBtqIuKa1FIdJMwAP0Nf67ofQHAAAALgGftXRH/wAAJKv4WAqxhDh9a+AzbvSD4WA6TSnf8N5K9UwaJznWYhZDzgXfd38AAAAoAZ+3akf/AAAkscwNNii32SEL/i4HNk7HYpVsq7TH3piwL4Mg1n6A4QAAAHRBm7xJqEFsmUwIX//+jLAAAEgUSJFBuAgcudEkgwIaqaqxVp5HO44FrWewjZSHfOQedoeKa2JruToJVf+0ar3grW7MQBY5AF+1ldkh7BdZJcpoZ/vQts9HvGizN3YzgOY74EoPyPIs/CbeY7RLaXblyQuxLAAAAFVBn9pFFSwj/wAAF0uicoAdAmJr9F4Z/dgf0BFOgYonND6oSScqrcs6shDg3SE0pr0Jw1IBzi/UWA+n2x4I7Nm7CBfHrQGIyzIDNsn5lynL9qIeMPLhAAAANAGf+XRH/wAAJKv4XtZypRBd6h/3VkrJx0Z0Cji+TbevWmCvFMzXOY0svpcMSGL3rlkZgFgAAAA/AZ/7akf/AAAkxyv84IppLPuZVL+4eP1OwnKAY4I2Ed+RUzvZj0dl+1ubdYEP6gA/YxtnX6UXbzPI0coDd3KhAAAAdUGb4EmoQWyZTAhf//6MsAAASClceVuMgoMfAfwjHaSv1jXORnCFGrG7b37qU1A5ndgTlYC+E9fi+8tctA5BYmCajgBrizSR+l/5/C50fJ/4IUH/vv8aO9GZWa76Gy3nJmd+QvWX9YgPxrtnjhglXQluWfiYQQAAAExBnh5FFSwj/wAAF0MU84xUE94BZ+AkvPn3IFpjHZHnB8ymZ5GXTcg3DwvTpzbMMAvKAbkR77clSPH7XM/vCiT5475lPAnO8wGYZ1mAAAAASQGePXRH/wAAJMMXZCneBDE8iw1v4yNyIjvXJanEqGHhC1YnPGpi9CUZveD3QATS5qrb3P/wYOOi2g2A70uEhMxUUbxBxzORdkwAAAA7AZ4/akf/AAAkrl84gVrQup4hKdyiIgnqxGqzTYVkPCaVhBTVwEMOnw8QAl07hIdVoxymeq9s9Uh60t0AAABpQZokSahBbJlMCFf//jhAAAEU8vtxAETHcjtb/628m/ijQR2TRaZtWuu8Z15v5V4XUYww+8aNNHRzGT1YRtpdaVUQin9ITyLmKLTuiBqtOqjMXGkjobnlUR+PhhRuksAVdZgHITEMNtNgAAAAU0GeQkUVLCP/AAAXQqsmKJaDzxc351T/hJMurT34Xq0lwhrG0EkTby/C5iDDLqK5qeAuqAgksdgFXwATmu6yssPYW95Jednb4p1WvTDkfTdKlzODAAAAOwGeYXRH/wAAJKnqU7j7KPwjq1NCX2Uh0w2Amr2TLBEwDKf/GnPYAALob4qrZoWYC1rDjgygWhhx7H6TAAAAPQGeY2pH/wAAJKOpfL1pWWLyDszH0FWkQSJA7K5TTJFGnmCwyohnxGY6HQAQ+5p/y9YQWyB8PiaVZffYv+EAAABZQZplSahBbJlMCFf//jhAAAEVNsaOAARf9B3kh37/YEO3NoptYA0Ar0E9pgz8/6NMWPBZSvzqQpPDQtVtxYGpHtYliQ5qlaIDNSkAOsHFl2bOGfXbm9ZiW9EAAAB1QZqGSeEKUmUwIX/+jLAAAEgxHIt1hoAbiKnwkCGSHkHhnKyaixHta9vPfObVKQ2nZlsKqZ1slPu7y/Q4IlaNQAutHUY0GsL/+P73xdS7n0JVgWDLu8978wuYoLZywk15/JgEOdIIb77Q2UQiIjoj1cYf9DqZAAAAYUGap0nhDomUwIX//oywAABKem9F7KLM8jABw+Mn6RZPyIxFH23ax8QcPm4jRZcxZjNdcQ9HSSEce516NJNGUWzPm1RNPLJxUUl8mjSjPE7fB1qfjNRszLrKpVIoMiWETcEAAACzQZrLSeEPJlMCF//+jLAAAEoQo5KSIAL+1wkdEPLV6bJb4KbxhEuvUtv6Pt0ewzw5Kew5+Ng00hVGOtMrTTA2QoLE9120XP3zjUwP1EUuZ9B1NBxKAU+ulnTWj2ijCEkdrR1+9GBC1krEdxJb2GgUh4wO/izX+Qbo77fm5yux7aZm016iVugamUI+5zMMrBFEOfI1kyJH94vGHZlp2u/wnP17gn9f2s/EWyBEgiRjitAtHCYAAABpQZ7pRRE8I/8AABfroyLGM48IADiPCKCQxTMueE8M8Gznq9khpWO0LUmUols1HVADIrRK8WrbfwJLm6TpD5wZ9rwtcS4YplnS1nYyrtO8vSFa8gOvwJzgVXrIULge2w3DxbsY0nrsgVdgAAAANAGfCHRH/wAAJcCY3LsMsHnq0YNtg7CS/7lr6fEindoNXUbpIzYHnFnkC7ed5yLHa7EKJuEAAABIAZ8Kakf/AAAlrl4syFMjDG/q48/cDfdR0uJhwfCkAC4IX6WRezcY6w9YkybQbmEuZtyIF+KD9NjzgAA3PTyK6o5gdNCJLa2pAAAAiUGbD0moQWiZTAhf//6MsAAASkJ5EmTlzACwsN2Rv8DWVLX7inwGZ6Q33KHdsXZHKsOS3KCLBGSB2T2FNF+3UaVRGUTDqO0xXIamgsJNUiGHhsB/N0orcXKxvWLWiqpAHbm3X6j/ypj5Gyp6WPc0H0cQfaK9S2wFrJbpyiCUU7KrEAiBpeX/WoGAAAAAVkGfLUURLCP/AAAXv9BuDgzz2QBwVmIxz5zQjApa3s5W9IJPwt8ReP5OWId2hJh/TWpoQkMTwRTiMMI5lth3le4ZIA7UPmrIRniMKkrjjKNzRV0M+DtfAAAAQgGfTHRH/wAAJalM51M6xdAH4mbxrjjFh4Y0TvExliDS7Xe1Rk6iX6vCGrHrsDqQSYvycCs0kd3XFIq6Vpijp8Q73QAAAEQBn05qR/8AACWtxhmROw6SgWDKFbAVRKy2kayCSes/78YIUK8mQZFxglm4UaiwaItW6mQAGMBJmk8IIiFb46ExMKIdeQAAAI5Bm1FJqEFsmUwUTC///oywAABKJDO8rJIAOPRopmULk/GOcw8NAK62LpLWrc2a7J8fzf1aXvu3oEO3r3yL/Vlv6XiLscgXv52O+LntrBtcYXYRhmS6nbLgH7r8MBh2fdxSffG3jIn54qawkFvGm+mf/xEUZh7Bfy5UndXWPs6XhTzWQURrO1dPURJGK0sZAAAAYwGfcGpH/wAAJa5ayKhZRz9wFEe7ZorHkkD90QDrsqz8x5ijxryroiB2dCEv66qCF4H8bswVZpgr9IAAPRtrIA9koABhKcmIlcPfgrdv1N1piWCIo5AhctGswEBQfvp9rfaLgAAAAJ5Bm3VJ4QpSZTAhf/6MsAAATBCqVFxGsjJ6AC/2tKKAU4CFgTg+JgXhqOiTcv5Hu6iTPZNiTmeZbXUY+dwDr/1469TIVGm/iFaAAETz+e1jHQegI79ANdEx5sEmqXt9ubj5IeH6jk9dpQ2855xk+B0ZWX4PD7ZFf1F5o3KizfAikN/9phHni0mxC858SJUaOopUer2JglG3OaqFTROD2wAAAFxBn5NFNEwj/wAAGIhi97WoP3+L9NX1CAIwTWuyU8/7YBITQ46KSbaMZuuKEdMbmw4qFpykNW33hZVqDYugXUHS7zeDFtDaSyBk21vDtEaD0DACSi1p7qOi6dpZMAAAAE4Bn7J0R/8AACbCiVf/7n+ws2ONBz/3eueQ0I0Jnm/AkH8QlfRRV4xm5me7N5O1UU+7w6yQayCGYXGirKflW6kmVJb8WIASugwp1g1iNnwAAABGAZ+0akf/AAAmvSa/U2aZ+M0KY6FJVdsYfZ4s3DdacLaWFSA7NJcFZJshJMtTkH7GACWhrzRTv//Y5gpmDN3f+zXMbhlt9wAAAHdBm7dJqEFomUwU8L/+jLAAAEwBPMEOVcxJ+QooADjPfqvnea3kkYYMj0KxW49//WTu8uQJd6FDhhImxGSBH+g6Anj0woS4JWSrF2FcTSDnE7j92du31843zYqNVRaRY1bG8U14TdmAi8+8E/pf5SkNBEljE0nPMAAAAEsBn9ZqR/8AACatXAw+QrueLeNfd94O8N5zzvXZhPipBJs/2EzXCW5sEfsTSVvvcHZ6bliZBAAEyZ/2y5E3eTqoOWv2AXsZPaFIuaEAAABlQZvZSeEKUmUwUsL//oywAABMAT0UJl0qicIEIAAJY+rkwVk37j0ZEza4wI7e/ewO6eusUJKuhT6Kmjj4gIuQt9XsxEt3dg2j7n5u+T0keOeWJ0xIXMmbhxkvq6cPe3haxS3aw0EAAABEAZ/4akf/AAAmrVvmetYBs6RUJAY2SjLAnHRjQ0nByrolSkai8y6s8TIU9I8u10UCOEjuhZvvHgBLOXAMy9dmvqwkRvwAAAB5QZv8SeEOiZTAhf/+jLAAAE5WH2WZOo1XXJ7oJTNTw127Jgk/OJdXdprxeyt+3LTQb1NXFAMe/Tknwp43WKCu3TcAIq5qGiAQI80FhC4VGbPytCmbBOEl8o0utzMefIyHQ7BIEH/Hi4xMHvCc5ujRpM4sfJFAZOFp1QAAAERBnhpFFTwj/wAAGSl3d/hgI4N3s55c1gPPRR3M3jRLqzLMAwL/csu2Bgs7jwSbug3KLGb7MiKo56S3Mg6Ulw5RaVVqQAAAAEABnjtqR/8AACfEGYwplmVK26OnVQwu+dusa4LKsmd3GGL5vZP11dDMSGgX6InFlipw/bqEH1NLTSamegDlEDlPAAAAhUGaIEmoQWiZTAhf//6MsAAATlYkQVWAHHtm5CM68sZa/dUbU/GsfijfPeYEp8boYD1ouhOSXS3My56zyFT3c+qzii4R4So8FhkwaDoYZrjd8ZdCMAeq/oFKrCrHDQ/zV1iPucRzKalyp1zFP6MzLPNMw7NkH9JgdFiQ/shTU1YVeFQFpoEAAABGQZ5eRREsI/8AABkfdUkiAvKFuYGfU5xavXe+U2jHxjZjEdxUszhgUIBnaurOiDofDoAhjos78q8HikP9wqoaaT+aclgGpAAAAFcBnn10R/8AACfanY1hwpWIoK9UmZcADnxsPCuWeIKjaiEa9CVFodxVIw89du7paXAu54lfslxSDIt1xvf04AJmoQrGPJ7w4K4GOCXIDNbPTcovx+sReXcAAABKAZ5/akf/AAAn1zMJX1HfGduobT+L9xtplHLTryMiW6jmlPuJEJHkMNJfEQc/IV+utchj3iwA3hkOp7CyXbHEvlUVP8M0qqbUYsEAAABkQZpiSahBbJlMFEwv//6MsAAAUCoaRHRb4hZ3izpVcp2Oqa/r9ITXlD3G/4lw47NXvs0zFvuACVnWrEkutWmCgUAIcH/7S+6fGuhLtWNr7B5+MJqfj5DmfMmjdm+s+IT0KlBXIAAAAFcBnoFqR/8AACj5bPuWPCKZN5RWKwhF7p/2oXBWx7CmHADpBquMN0DLKwXWMKgAwjk0XJVfPFElVs18ADwIs6SpmGXafWHsARr+5SbfP4Lr3Cbv5Jc0WYEAAACBQZqGSeEKUmUwIX/+jLAAAFAqcquQALZ6hlHZmChwDJcEvYnTn1AfXt+oiAYokDN4D92+LU55u3xsPfCQDBXp5BFSMAWs5q2PQ420ovofapPxqbxml6jC78YbqNIkmMlvkF5yEQxm2yok401KDdfepIX7ta9N5WTj/Vtlsz9AglHAAAAAWEGepEU0TCP/AAAZv4WvQtkVGcdmrfrghA7zlqqkLEIrT18IXhYZSzviUgvhvOyJUaOF79kJ3uLoATKZ4orrc+wtVzTAEvU0W3/pa8vqObqHCZ0BQp5wA7sAAABGAZ7DdEf/AAAo+YDLOIV/UVRC9kM5Z7cmwo0ce4n2QVi8OjBwoUFaluTQdaKpcR3cf0/AA76GX5usXxyzw0gB9s1r4DLAlwAAAE4BnsVqR/8AACjigMyf0BCE53NlLAHFVq2NACWDhe4vsPZuBie7vOaPy+b625w8iIg2YkGY7YkJN0AMgCAMEPpjs3i5H8BKYUaRH9WTLaEAAACrQZrKSahBaJlMCF///oywAABSanKPjFNR4WgAVhbAMjA5C2+5A9dj9mYEoHXfUvvazylhnCGxvR4/zb/UojWun9zwZesJ0VBj+dmvzVuzXqlv2ocEVQ1LvlSqUcf527FAaum/jWD3lsUy0HN5/ReTPOi+9VlNDdXi0dTW5fAkpWWNhxWrXr7y1mdmqq3ftjgXENr0pZNsk6AMKWEurJvWB0VLHuC/9RUilPBZAAAAR0Ge6EURLCP/AAAaX4WvHoGvbxBldTy5RhKOen+Z7vmo4oOdCtdP8jfkfLB42BKaig8N+JYZL1Yfzt9n/ezMHkvBMH78mIqYAAAAQAGfB3RH/wAAKh5W2EYLupWcLxphqJtAkYg88hMkBvgNyndn+30gaV1AB8c68dKQ5M5zZKTJGBKggzUf02JE5YAAAAA4AZ8Jakf/AAAqBBnr2U9CG2hd925YKO5JZpnm4knvm82fU8psMxpQOoFt9eaj5L3QnyLEDzPlty0AAACcQZsMSahBbJlMFEwv//6MsAAAUqSpcuxiKjACMDGXvx9/8ZypbSzq5AS4luDyUzlqILrmQyegPZvJqCTOas3WgH0I1reAcmywLOScnTRSgZ8KGea+sQwR7XV6R44Ogx91Wrr/AC/r0PSi9VFJaLCpLOZh31Wrqdy4ady8u1EYimwK/wtDSSOQPvscGAf5kf0R1N0L5WbkS3y4dGugAAAAQQGfK2pH/wAAKfPBLliOJ0tilOmpgPz9zXEKAOU32lt0PLOIQpN7isg0ZADPyHEz6ukj0kOLhQabH2gw4lI34FtAAAAAd0GbMEnhClJlMCF//oywAABUqnirkADjxOJlnhGaibfUqhDTHOVijiGHiCO41atiZYV3zaN3IjLUxo1Xes0aX/6/CCo3S052GXgjta7k1nnnze/EqWBJT+dOL5pNArmtn4ep7uGJJtMPvnEfVXW/ORMxUcpSgzUpAAAAZUGfTkU0TCP/AAAbCXyDDtinMFtwpV9/7hQAtZsztxMRlzbGh3GYikK5QjX5CwDMTNkTfQywnoPDiQZ2+xxICUnXAD5QWOE0Mf1GhPI0VX+RdfpnZAAhFmPUIAjWPnBwyVGVqoz5AAAAOQGfbXRH/wAAKhm18poCYs1NZJspeGdSCdFEvXFLUAFTEyc8NcwhyAB71oaqfTxFAxylm0BdCAbKSQAAAC0Bn29qR/8AACtDKaBqIgeiqxCGU80z9un2KJHo3PygzRxo3arSbS69JwM4dagAAABWQZtySahBaJlMFPC//oywAABUwsUefIRHuxNCiAC6j0wONPTXmbOQMXi3WdgL0MPM4ECejyUtFQBBuPhp3FvRAGuSgYXcGFk2AxiVO06c5X5rEAzjdcAAAAA/AZ+Rakf/AAArCBX2eMQ2Ptpt1KZX+T3aqNAfP1zpDjGlelorMLYtAAGeICn0H/jeQYiV1MHs1eDt6YzUeApJAAAAeUGblknhClJlMCF//oywAABXGHCOnuAK1P+zS4JZHm03UrbwwIFG8LuL6o45WInhyUiktZfRDwbfFJmzY8X+UH9WCw+2YVdRkTJGUzeOht2WZIEm4/EjOKf/jEutu1YDpfrF17FcD8dmZQsAOv+GrbtOpP4Y8Ui+4v0AAABNQZ+0RTRMI/8AABufnmASCSAFh7kopZKgjjYi9kBpc3IUvGmku4sykLN4pX3gHcd+2v67skZ/44Rv8XOhqKv+yu+0ITUbkEQkx+hAgYAAAAA6AZ/TdEf/AAAsXjPezmVFVoyNgAtGfNmd5C588Hze0d9w9S0Ng0wj3wOKEgAVD6AV17d7Ol7+pFaJuQAAAD0Bn9VqR/8AACxCnJ/0jvUDABaXbwj4ki4y+jbO4mn+lRWI1Wn7AFKk6FM22F6+tFb664aipzmMiOe7r2NlAAAAaUGb2UmoQWiZTAhf//6MsAAAVupiVtPWm5d+7QXAAVHKYdCauGbL1AUlPDyXtv4nAJNpoQXIx5fxujzzqLkYgT6KDCc+eQxmIRhKhN9VFdlppnDET4NXviIhvqFIxUAEKLIcHBwbrjmhwQAAAGlBn/dFESwj/wAAG6icIvAEStwvmfJPSzgrZZ7nXugNZ65O1o49o5r/rReZL39BgWtkWohiGUCH865HBNbCt2CgOFzbS2L3YHlIlevqW9HMYVSlIwYBEi5idFfjqTouSYXXgA0JQW6AFTEAAAA+AZ4Yakf/AAAsVo6VlWn+X6sMLvQ5zZiJ5usVqL7UEuvLsPW5s/ecgAfy3N8jVxweKRarZGfLDHfe6x109IAAAACMQZocSahBbJlMCF///oywAABZKky0WOAK36hjlE1dK8oJQE2E50pvCKuVpze0Vx+G57GnJ0VKZD3FI7nFhyfZ2BuPgxqEsY0onqjds853OddzrrnNCNfOMc1VMAEAx8z+Y0MRt2VBPgeZdN9dFJqcZsLWzrGeEgNnzT9Ue6ah0WJkiJE1D+6EZvM54J0AAABEQZ46RRUsI/8AABxXL46fbpMn1gD8I+LHhgox/U4+XB+Sx2hGgFwA7asCbkz6tdKY9iBtsIgE66hfV6tLkj4L3ohiXsAAAAA+AZ5bakf/AAAtdo6litj3oylHOgABbdXvY2PqqdQxgU0FmvM5jsXij9+ve0s9PhTTxPOic3n/pzJjZVzt1sEAAABtQZpdSahBbJlMCGf//p4QAABYlLzgIF7HODSuKAALoIO6kyfuzksUVm2PY8AgONSufIVfPzqtaOtUaEAQAKx3TxhkRfChK1PI2UADtH+QZqtNeWjp4k9xJHHPjFYNYLTHy07659sN73cc/XQosQAAAGFBmmFJ4QpSZTAhn/6eEAAAWrvXDEgmgCobg+0T2BLLvBhjS1f0penZ08HqEzj8OmROPYm6AfwbKPbJ7Q0yWhz5BOV5LZPHxqGSi3/Qd6K4PtwFaBjOTOvPCwW57MoQzWxAAAAAWUGen0U0TCP/AAAdCHIRUmC2Y4OjI2J79P/CejgMbSVWsoXCCJzG43SP8300BeOO0JhmhwVqNaAPX5IJ3Ne78TA4QQWVIL8jToTTgWra1umTqE+bZos5KBUwAAAAOwGevnRH/wAALV67/4DkpS/Puhi8JSi0+6kscD+qR4UqthzbQAemZAAeqZADnFNgzuFg6WYneOVvizM3AAAAQwGeoGpH/wAALoKcn/SGQ46LNwa2x/gA4LNvXunajkruHlKQjDtp3fmvG2yUwitodP/uFYJce1avCBx7o8tl0Sj2vmAAAACWQZqlSahBaJlMCGf//p4QAABc68mcDzLd9KEyJiwA4jMncD1JtE7vaFrfSufeTX6R7CvOdwiHmFWOEhKhVMxUeLcQT0z2ZIJgX/9pj+wxVtuwF3fhzyKp/LFl1b8bqKCkfBFe1Z71hV2ifpoG2+oY1GZ0gxDje6h7Fpbi0WmvskH6t1XKdtI/D3j586va7YooA0XW0205AAAAU0Gew0URLCP/AAAduHIRjOgBGAANRykDnzINWbL/DXdq8Q+84FE4YGZH/L554esBMAsemRfb2Xum+7+DhohaGzRH1JOexaShF2lSiI0NhR9M8AyoAAAAPQGe4nRH/wAALnS7IH1PNUwdLLDNmB56ZaDMRsEAJU98HSzNsk+XdwEUSbhCEmJpdsR82ZL5yAxOm+zj2pkAAAA6AZ7kakf/AAAv0lDX4VPlblz3mevbDdZccALb92/pEZ83VDq98hlw6KLEjNh9ohZh+gU2+WxXbLRXwQAAAIlBmulJqEFsmUwIZ//+nhAAAF0UiYKpbQAC6j4blXEt7+Xi9OwqsbKlf3MbhcpbaIVcNuGA8IrVqAuC6LBo1wjZVLEG96eTjp0gO5S2O7AofH0EMTeTVuG8bDsppEuTicvuVoEEWrpDg0+1txMJlfQFLwQ+f+WVfGe8V5uurn4gsxMnKKyWGhujgQAAAGhBnwdFFSwj/wAAHayeb4v5+Jauhx8Eb5Rx4QGTAvnN7PNQMC9t7OzcnO1nQbVzp/75JgQpJhKymbDcM1syOHwtJCutmf8eaTLpoA3gyrFZQlv/BM4ui28pbh4JWl7lRY63hw7woHVRQQAAAD4BnyZ0R/8AAC/RfQ/eh9u7uSaN8PvHNNiLTCRAlFJ4AON0KfkcLLnHiga/bclqVBjcUKTfuhpo4YbP1CR4MAAAAEABnyhqR/8AAC+ggXM1NEZn/psfDIHPyzqnBopi+/hAVqAEsLtaY52EUWlmj3GAfm5ElqPTKmlrS7Fa9Xd1l86NAAAAqUGbLUmoQWyZTAhf//6MsAAAYIUsuXMAOkenDEAREUSYj6PGXeMVtjsrmPuGVDbmfu7dv6f+TWRLDexLFb0GVHMCWjPZRZgPA+a0Iok46NrPMU93WJoRpWmWC5CpVnE4DYKlnCi029aNAW/oXfZ8yz2qXM8xSn0pEP/1Y20AktHUkAKYFQjun7/8I2T1ailrlAt1EnVOuC60Pt8QdD5OJJ2tx7D7ePxJu0EAAABnQZ9LRRUsI/8AAB5cnlUmzyNZnkCxQBOi8jaBTc20gy5qXWDygP52OurcFI1xjoYwxQbM0OvDcbgu8JofPJZDNipUANixruYXdlpGIUjOtjDM6G5siaxiWFdTfDgaK8r003mfNVT5SQAAAD0Bn2p0R/8AADEXMakl2v9qckf4G5nItxMaozBDj7NiCLH/Z4V13tZFw60+3IJGeXWRPGO9+K8r66CUjjVJAAAAOwGfbGpH/wAAMQ7vTz6Gtp87nrMtHbgycnX+vdSPPyNDotUOdQaLIfBC2+jZoUibzvBtkXn/lSDXVhT5AAAAoEGbcUmoQWyZTAhf//6MsAAAYpaDK5ABfHqK2i1e1xwCEzlNAUjjT+Z8gCm+wQteDOieU93+RHsOt+vXloLwn+1PoXRyGznLSuG+26XxMT94M0iBC1kkomVw39NHdrKKc1aCtRdJJU2vWiAJtdP0+6kUm3nBMGjnvsX+DfQKwKvxwArAFVcNTNAMQ113cwOIf69TJs33BdsMx12c7Pi643EAAAA9QZ+PRRUsI/8AAB8YchN6YLY558w5aks+bN8U5F8yZUeUhpjDovc4k/2fNZyCvxYlHuqE1Nr0S7QMlYB3QQAAAFUBn650R/8AADDzoIGA5KUoUAh366ZRSErVaRJejVS4S7uTehFOnuoXK57oAIaz7HcHogRW4kf3kjPKuSLvGqKJGkMShlAlFTLr9+lbwn2oeNbhx2r4AAAATgGfsGpH/wAAMl015ygsM87aegIubsqF53xuhdy4L8DVzIaDem9jwKoiVEDnxbrNIAB98Qpp6BvpRgt7xNKktQjp0GZBoH3HnuPk0ZKiXAAAAJdBm7VJqEFsmUwIX//+jLAAAGUuxoqxI4BNWGywZ1kOQIDtgF0wgGRo4Db1L9BIerazNEJJSFE1LGHTjg3SEOQTBY2AmnxB8jwmEIimeW0a+5YCsRxoC/MeakerFnXSPsyea2fZ1/swwvxsu2c/495KtLyRpS/6KLtl2LU03r4Cr2lwVj79SRYgb2hbFr+rFYax9KfTEbsZAAAAVUGf00UVLCP/AAAfyG5ZIpGnBWc4vovxcmm+ONFX3A+Kdl460uY5PquSWr+X9kYOM+oIGchAJEkpAlqr8+GSPm228daP1/OgOiGrpsQfeBO0FaZNOXAAAABdAZ/ydEf/AAAxpF/t7krjc1msCLlQPD/QQE6sUax+pr0wRRU5LDuH3/oT1SjYPx01ACS8v96AkpYfGqmr8hc/WAxA+Rsb9XLFNNFfZYcawmUT8/x+7W8kXhpNUQRcAAAAUgGf9GpH/wAAM5JQ1+FF0IhLx6mUGkUL169kdh72k/dM27JUpAvlYSxqpyWYGnkn0AEBU5JHpldhtmAbtNt0Gjjuavhuf/ftvNJqfFuFW2Lx6bkAAABsQZv3SahBbJlMFEwv//6MsAAAZUBynd820yBJwgfZcACvoAiV/B+oKONRY1vVTXetG1KtWGAl2306p153gP/2GeJolaCmUUvXvdf+VybrNWmDINWPEYyITsVuT7u1DzXnlUstsPfStSokPfqwAAAAVAGeFmpH/wAAM47vLOYxFuUSd4yOjgIDqz33hTIn/b5SR3rCuSqjCdCX1Su4n3N+eLpDJzUSrnw2ABOLzcIiznX8+ZFw+uUXxbKwDdn8W51L6IVJwQAAAGZBmhpJ4QpSZTAhX/44QAABkT3LDP508nzd66zy6pFKFOEkYACKeZvhn3hQIJ6j9Z5FPWCnO/bPy1/pHBnkUzk4ECcC8PQoEzmuIEPAyximkEno2pj9LTFXOTWk61gyuGQmCkeozXEAAABAQZ44RTRMI/8AACC8eRvkwXALpggkqQBnxUbe6qhiry0uJI9pQCu9l0FBCc8EKB6AXeo4qZZQhI0IXxdL3wAIuAAAAEgBnllqR/8AADTSJz1+742RDE5NdnUEOITuqKmDxpd18DN12II64b52EotJlhgCB7Mv/U90WgASUZ0fkkUMlL94W93q1kvYQ4EAAACAQZpcSahBaJlMFPCv/jhAAAGRPPIBJNJZMgTZzOzt4oTgAIiONZvLanPyTXGpULRzCqZxNHNTKapTvGFHzc4mbBxE/Pm2AHvaPAdIjuqkUb/bKtQyZDIGmMWWdyY64OfhNQi3AF/Rm9NrJk0qza+ISd/ulPa0CGyhQD8Ou8+8apgAAABlAZ57akf/AAA0t5629hK83Jq+lHsqaGBANdP1JtrHNC973hzENshTSeP9l7ZyEs9byJXteFBXjOeUgvPuIEwAJfl7jtXQyXJBXulA4x7g4cVHZWsKaJdt3aw+KQ2aXox77u5bwMEAAABlQZp/SeEKUmUwIT/98QAAAwPgSQD/b1Klf2zN3QMd+kOeQjXA/sQj/yGbffuoFsXPcZoHcO2MuwApNa47ZI1RPXRYnFahKlVqqABCA95ZLX2lFDTfG58LWBiAJsODOxJbY/vXuDEAAABdQZ6dRTRMI/8AACG8hZuUbo6q3VLZe9lImiyUuqU+FJHD+YlmeZCsyWcaXQt5unnjipRZzu5irAAQq1rLOwjnaJF7wuuytOLv3B+CKoQQkMPH0YFrHGHijJrNBIHzAAAARAGevmpH/wAANfeetvZZpztOu3ltLYC7kFPkF+w4RONYWNeMOdaL74GbBxBBsqbrJkAEKLgmBD47R/DUL6REdCRPqh/AAAAAX0GaoEmoQWiZTAhH//3hAAAGSBH77uFnz+GZrg08hUy2TadKbAy9s+K9NUxxROJvoEsNUMADW9mU/nzJRbap9XHWLaDdK6QuEzzLrYgOM2z0JR3d1XnrbwIGBXihM5mxAAAAeEGaw0nhClJlMCEf/eEAAAZsVMS2yXgiSA5ZT6inaOoJqq5EfndXZtj4PABiRZh45LACrqo7keajfQCV/aoG6K0H7cnQJNmAFeho0PE1yHIrIepyO6WbV0zfEB/Zx0ltVqh7TTUoyKm4wvOLnILj0oRp3CH2R+IqvAAAAF5BnuFFNEwj/wAAIryFm5Rivv1wlyQfald2+gQm6m0Zq33ewHy2Pi6nFqxm9l5Di7at7Mp+Gm/h2AaNLEyRoFHS1nFX5b0k3nD4jYfHMKnJhc769gl0kBltFGYWumEHAAAANgGfAmpH/wAAN08oLPhZqD2sufA98eoYXsjePcjTna1JxZA3QhboWMFm5DbAnh5GhPVtMCkA8wAAAHBBmwdJqEFomUwI//yEAAAZt7PtdCgCgu6r5I3uwPzn+McGQSz4ZSkISCRQl2pLoW2doJAbL1bpfO3SaRKbD2cBtp1p9jAITcKSCPRYdx0AzfGkmp4dPmvObzAoTuJFoFRKzuCkmN1XV5nkvgO+TXuPAAAAbkGfJUURLCP/AAAjvijFXtkAHG8XWFUaLkQ706sEC7dWu+m/OoS7egXtExf8WT+O27qDd4S0Qz7Ct3p4LA6mi1Rpn+dc82DEVLOdZ/GCsUqY0WakoUFGf9hfl4ScJPvijXK3IniRX1AN7pbGsBlRAAAAQQGfRHRH/wAAN0ba6QDyAFcY29aJU1KDl7YiNxB3uvryrkQn08iAOzdxEOjSN5lWuCpTaPDoc/4RDtwEsdfBSVmBAAAASwGfRmpH/wAAOJCzGrMY3lbp7fPerAZczTkxDIwfsNnuAJzR/5G8zZWI47dEv/MDb0tVYE7sfSmdT26rUaDzUbNbI/wkcyhrW5HKSQAAAFNBm0hJqEFsmUwI//yEAAAZr83erznUGkuOkYJnnRCY6ALUPz0WGFgem67M0HXTlgZsOfNvAT3jxTgCM1+8PsqvDeXGC7prlT87ozeGgup1hVGzwAAAAIVBm2lJ4QpSZTAhH/3hAAAGmRXoqoQcAvagQM6Q8JgW+88WF/VMPnhrGCs0b94sYIs88/YrWTcvoD+ZbXAA1H6NkAA0aC+ki/QiXroHYBq/dtv6Gvkf+EfnHU9jeiGbg8FKatDPZD9Y1M+qEjo2I69io3eUP6YhJOL/vj7SjaVwvnhIZFuWAAAAUUGbjEnhDomUwIT//fEAAAQb4BqPeJrpLrr4UWiAZX7ULkSu+fwwyIk1m4Gi2RSrcVGyblokYRpStcXL7/2U0GaAEzVE0nHp4kxk5TI0LOAE8QAAAFFBn6pFETwj/wAAI7p4iwYABw7UkWvPmsKypi9KgKsWGlgX9b2G7a2K/NYHl5xGXf957THo7z4ZKNds7cusXFtmQ92hMD7HpBhU6ssi9uyQh4AAAAAxAZ/Lakf/AAA4n/Cnd2WchccmYm+ECJDkza326wzptGjWcnE7hbWaFZueM1KH0BzugAAAAFFBm81JqEFomUwIR//94QAAAwDuejf5g4L2AAYOKd5KKwkTxIw9YTiQfJgAZ3CPN92Ku3Z36d1/swnn8NXG1wAX21haXJwSreLjDd5N9uETGYEAAAH1ZYiCAA///vdonwKbWkN6gOSVxSXbT4H/q2dwfI/pAwAAAwAAAwAAFbekZYZCdC/yYgAABXwAsgXYRISAUsbwqBK8mf3D+PhAFYGR2WXHXyiz4Dw5ymHKiIjFZajnJ8H+BBAaG+FWO85gk/PvU7Or+/IpXlwOlbZaRoDrxDVKyJ73XOAzjj106A/LUFLuHBkp9wwfrn/H+QI0zfjyX9/p1SU7CrNmK6LQg7PU3U3sWL3yoaSlEFsBN7wFvQLmh7eevKfa+Wf09L7mhEltRy9H6GT0B0nWa54c9hBVCzu7WcOTFYHUcALiOjTLlKXxd6T+x6tkaXxPa6xND4bxZ3rNqXzGfSJcv6PkO9yriNpTf40tjqHRf3xMEabXMZ7hXt6kpxUbsuNA9nXud8fMT2jv+19gP6aIz2ECIvaQpayDPP+I+4jZk/c54j6/3JqOvGfirZ3neIMTWTNkSj8gB7xmCf7FYyXI3xACka2dD1UqhKRhazDshjRzWbE9q9FYYUPC5ewh31rdiAbM/2hDZbLvK3B0LgaEFlojyyqfLxuYOxs5RQBUlI+dLoFOAVbWy2yyQEBtYeplDXKZtmO6yAsTKhz1f8ByEXkjyCNXS/k0AF+evNzu/vYkou4V5Q9DLIf6Hv1175ESJCUjFWgAAAMAAAMAAE/BAAAAXkGaJGxDP/6eEAAARVMeABF+8n7RHrr7dbQ7YYpNEUym2Nq/DH4kome0H/xcspMtOiNE66dPX1WMfL18gm//VcZ74iPPJNY6PgBeng57JQ1eW3gwHYk8z1Rb0jz5aUEAAAAmQZ5CeIR/AAAIcWW7U4wJZgTqiAhe0pELrnVLm3tSWxRu15QZHpAAAAAgAZ5hdEf/AAAiuMPAUba8IvrKMTaD3BMbFbSM4m5AtoAAAAAgAZ5jakf/AAAisjycI+YmczJODVYtX8w8TFBNr3u4JuEAAABoQZpoSahBaJlMCGf//p4QAABFZVEVS0qABYfXD3NRnTgsAN+6OAVsed/8bKQxTBXaK8aEiT1ayLiBeOMWmiK7HXy2htNR5kTRrHCHfhH3M7+PDDrakcfnfpWn+QrvSjJoz74f+1N7gEAAAAAlQZ6GRREsI/8AABa8Tm0dbLVJZ7m4Y1STmruJwFGusPp6rg9m9AAAAB8BnqV0R/8AAA3V6nIzXhssQLvyL1f+UzDbExsvhSLhAAAAIwGep2pH/wAAI65gQyTgksetASE2TGZdfASkEpQAfoDk758jAAAAUEGarEmoQWyZTAhn//6eEAAARW+cXzJAAV+r6o1zkYltngevm6803mQXv0i0Xjd8v2lPDcdnY7Qwn0isepdYV8ZFwBwlvPNF52OkEThJgkJhAAAAKEGeykUVLCP/AAAWtV9N5ZhB2XRxEPDU9erDbyOx6AEspN62+ZkhKJUAAAAcAZ7pdEf/AAAkwsx3xFjjnabapJgX1KAD97Xf8AAAABwBnutqR/8AACTHxtjrWZDUmqFc0byAq4E0zAbNAAAAU0Ga8EmoQWyZTAhn//6eEAAARW1neNfTPihHOTiDlkAEvCmPaCsdXQqg1jnr0bdE63xU0GamN7HKF4Diif3q/qq+kCA+RIFXfvaup91xHmQWAxH9AAAANEGfDkUVLCP/AAAWvFC4UrvEyzzWAAmaoNRkV7B2GABqpNKSA3T0P+D0u27/4PcWphzHv20AAAAZAZ8tdEf/AAANzhWfnRag2k3KwnwKML8soQAAAB8Bny9qR/8AACOyPL+k7t6ychSWP4Qe61DSluEmE3EqAAAAP0GbNEmoQWyZTAhn//6eEAAARUiXIA5RvBZyopVoqLYuXTHoxMrXbLJ2k1oqu7hIi1Es4Fwxpu/nqTYxKG0bDwAAACVBn1JFFSwj/wAAFrxQuFKwNS3PPQjFU5Zh5wA4Jo1EuRlaP/SBAAAAGwGfcXRH/wAADc4UA4gGXTrk6cDDmdQ4LHMSoAAAACMBn3NqR/8AACM/qbXYwR2/WcI9V8kB1E1EL3sbaNqU84r+kQAAAF1Bm3hJqEFsmUwIZ//+nhAAABpXiyABzRvD52Pz3gVndbBnLSo5X+KcWwMXkkirDFIy9DtFIiXSc8zGv0h0vEwKGG+n0iF6jd/HpRD+qOcwsof16n9oJeJiUQ1ug2AAAAAwQZ+WRRUsI/8AAAixTgwv9lq5UAG0eiShx8Gr19nFk+SjdS7DN87XDL9JpjtpOkBBAAAAFwGftXRH/wAADc4Thnnj56fDg1xd8/dvAAAAIAGft2pH/wAADdSHaIcLblScww6BCoVOM/C9UFeKZzVHAAAAYkGbvEmoQWyZTAhf//6MsAAARiXxgTcv4AOgaBLEO3DyY6JHRyPNg69fE7Eb9i9SAYZMUGVpbXl9cysmxAdMf6iJjrn6wjkZBYDGhRj+6WhO8ClJqKZGH4rfOrgN7sGIlaxRAAAAIEGf2kUVLCP/AAAWu5SenrHZRYpU3yodqFTCKTjeIW+fAAAAIgGf+XRH/wAAI8NHCJf8dVY6USC1/FRpryvd1P0jw1HOKbgAAAAUAZ/7akf/AAAjvx+MRm6G8Jb56m8AAAByQZvgSahBbJlMCF///oywAABGAv0jAFALtJmOQCYvqXNDrl9AZdO3UxH78bBTTR4CFT2Ms/piF+VPSfwM/k/5zvWVSxdEBVBRCNt4avmkFpUG36hTIzAd6OgJ07CT3WCYrakR3MY3LpD8Wcl4E3BMgC6YAAAAN0GeHkUVLCP/AAAWlapLRwuDT4ALeC6Dha1M92q7Vqyjtd2uIhGzOCQH+l2JxqvZnmtFc9Zh9sAAAAAiAZ49dEf/AAAjpT2Nlf0X/zl+oIPmLPeb5FMeGKOm311iwQAAABwBnj9qR/8AAA109yL3K0sRjIpq/WCyaWrCEZonAAAAgkGaJEmoQWyZTAhf//6MsAAARgL9IwBQDAfwKZzQpC98H+czEeD5Zzy6Bups+3LmnW4DLUmDA0EyTTbJkzLOIh4O0fkuu4BUfqAGEvpnFpWQ8ARGBrlD+hwbrfgcQZwaK/v6NoLFDacuDZY7r3usOiyI9XWLAB+hGsnLimwcMqpSjYEAAABHQZ5CRRUsI/8AABa1OZOCXdzmCHpqDh0/v+EloWn4FOIaJJmPfa0/vYVGp4AXQEmpvTq3DSFSX1fXhLW7Qfu0L7nnzVqCOvAAAAAzAZ5hdEf/AAAjrEJULHUxJcpbYHo+Nf6fjN6XIMVmzV5Jzv4dE/p0QAdv+QIowGTq4AOCAAAAJgGeY2pH/wAAIr8f3BqyFbfQ2JL/yCIAmguRd5fiYQYMZakgALXhAAAAYUGaZkmoQWyZTBRMK//+OEAAAQ2itQUAra6+bZ5lud0BzvWWuQt+9caEsDrP1e7behoNODv2FQgAohfjN/G+LGZfwdkVRIsdwYPHjp/WAiIP+14tc85TyhfEBTcYDx2yVdgAAAA8AZ6Fakf/AAAjsf8iR+HhUUKTx+w9AsIskfZI0Yr+IR+2jYAJYp+dVtxK15dQ3RbWYJzRlBpGTFRZjK9SAAAALUGah0nhClJlMCF//oywAABEemAikCkZxtkr+4qFwwsPl6bnLcqO1avdOeZxwQAAAFxBmqlJ4Q6JlMFNEwv//oywAABGKbnSMgCBKZUwxkraGF4yuKMYviHzmJpcA7QApIKrNrZgB2XXYX8/1Kox6TMVFEKGmvouOYAZ/pyu/d9d5iGxhwiVbbcMIiNUYAAAADwBnshqR/8AACOZYqEp0ANjwbL/wXARWIMy16Z27LeFaCZCWz4lQAMx/z8cQY/4u837nlcibDahLpI5fbEAAABDQZrNSeEPJlMCF//+jLAAAEYC94g24Cik8BKES+Z6qxjsUMDpeC37kSMF/+TG0Yg0YyrcdIdKYIygqJVDrTuEdMffMQAAACVBnutFETwj/wAAFqT7Il0cN+jZB8r58ceIs8wyR+dB6A7K0PtgAAAAJQGfCnRH/wAAI6w9Hc5OojIMHoAJV472+5QDp18f8TEQVwhDolUAAAAWAZ8Makf/AAAjvwQnEslpmrhWdCAu4AAAAGtBmxFJqEFomUwIX//+jLAAAEYCCJGANv1DBUS9CS8kiDQc8kv0fIAWPOkK3apK4XzLtSVu3dESoPE4SnEBwGMhAfHhwQu953dW/ftYQZLU4PI+MZh1C2Hr77T57/xRkQ+Tx8c7Yf07KMEiDQAAAC9Bny9FESwj/wAAFruUNyJ0d6rABO3UUznNfp9A9qbIcN5XX53OFnjloWBZVFHxAQAAABsBn050R/8AACS4uCotrknkMtfu2mObAr6590AAAAAkAZ9Qakf/AAAksevB7qDIZEA2bxtrnarht6nzdXFbSBjxP1nwAAAAcUGbUkmoQWyZTAhf//6MsAAAGpk5BJYLIKAmfEYDO1A5XPF63m8gw4KYrc4OLXa5TDOVkur1nfB3N03Pv70suOoxtXD1h/3O8noT4D3IJk8D9xRBbxs6qus4S6Hs5A9mFyxUUF+1ZfTmpbh/uMOZQh8xAAAAf0GbdUnhClJlMCGf/p4QAABFRSi0AKqa0BQcb20RmjX6dMuWcaaImID9yhjwVZwAbcrrKt4GYBEyhy5GHLZnXctUIrg6m1t9dBUIgIRlUtufOHd38WLxtNEz2IArn+R5czxmuQluB6kjyI2xNBRh8/bjxF680M+sH00usY5sYuwAAAA7QZ+TRTRMI/8AABa1K0drjohe9lpTql4D4OP52mBsSH/1y9o76znsi4wARB1JLxJBmpqmhX7N1rU9n2cAAAA5AZ+0akf/AAANeUuS6ehw/dlf7HeaxKmljM8sN7lUcMFer1M85ABOGfjeZxVSbB00fRDZXDASxdJMAAAAUkGbuUmoQWiZTAhn//6eEAAARUVBjlsAtZ76RLOraLHxQveCvNsL5MPp8OeKSAeTL83gil7b8DPdi7Hv7pQDgRqZVeh40sxeEPKTQvY/oykU+GEAAAA/QZ/XRREsI/8AABa8nXgCt3dst/VRMc9o6reMcC+c3s9Hvl0c4gHcHENLmI28faNKrmsVVa24pilu+N6eU6qjAAAAPQGf9nRH/wAAI6w5BbUKABbZ5v71ey2zsRUA8oIh3jzq0GJ8uxAJYG8Amj6MEZUEFfAflaBHezaPdYdjXs0AAAAmAZ/4akf/AAAjvwQnEslpmrgcNth7TmtcNPNhWc6ZqztGn+eEY5MAAAB3QZv9SahBbJlMCGf//p4QAABFRSi0Af8lHk+92ePvV75gvQtrc4WbUpltZHyVbx/o3fmSE3n6aK3d2FeaPfYLwadF3P3+4fioKnqx7chHJ2TK4jCmvjCPGruko1k0AJFq8OwZokE/HQNpvAtz00+zddVaZUhWfzkAAAAkQZ4bRRUsI/8AABa8PRrjW++RYc+8SiOM4QyzhGlk96KceWzAAAAAGgGeOnRH/wAAIsNAEy696GQ0GdTo/DtSqskxAAAAIwGePGpH/wAAI7H9sThMoMwW5BJcU91EYYahFWMtg6XzVOSAAAAAskGaIUmoQWyZTAhn//6eEAAARVAR5ANMaIXIaYVNai7EE/mbDt61xUgz38A331gMLmQ6KOydnZMLsoc/BpoDiSU+h9+Rwk5TqbnUfqo8iDImKNup5zKjk4yc9oWFSkjymDNsfF9A7jNotFZRzoVIr9DgcyWyduT85mYHaY7t6ypCf53UCQO3zcQh0ln3WgRQe82x4Jjiz5ZKuf4zZZz8bTo5iaGqoADVoj/lr3FvWQPSc7AAAABSQZ5fRRUsI/8AABbAmIzb0AOO2TnOWofWecLeyJOsk8zM7b6YJ7CHLNU+3WYk/FU4rjAr5Z8jHqTIttFMmwTJrNXxJUr7EGERJin1tK7+baUcFwAAAC0Bnn50R/8AACPDF3cUPN7x7fHobU9H73gdPLAE2Bj+HglhBavDTxIMIh++LZkAAAA2AZ5gakf/AAAjvxpwqmwk0sHzkrjNnCVigXw30XKmG3pMz4I/u7mdGoAeZTEud1U5CUBcrshtAAAAfEGaZUmoQWyZTAhn//6eEAAARVFJvUA/6CYSutUbUDlkP6rX6O+k9nXe6FKXZdeeLyKdpCqQwaOLseuSQXm45opetMS2mdxzGYFHsWgt/Qu72B400koJrVOEkZnLm3AymoSwTF3pK1KHcKEW9sVL7fVIRJRWFidar6f2XcAAAABZQZ6DRRUsI/8AABa1TMJAC/uAI79cHZ1I+C53l/wDDs8nulUJWO/9nzpCfH1RIZSGzlUw+dq/vlX9qSeP/4Okw6Bc6Z1ImNEnFobUNcEHrQU0nRrq2L2Yx8AAAAAwAZ6idEf/AAAjq/hf+obxjhUUoOuHv1GTBIIFE0FWs8hNSL3VDiD3WSrO5WMW3aypAAAAPQGepGpH/wAAIr8fejRGCrTX52MyD+OJET3zUGjZAG8YtzHbif8mx/jtgAE588D+OJ0Z5CqAEwinpKUOFNwAAAB1QZqpSahBbJlMCF///oywAABGEMHbwKcbZCDz0KyUH71Z5qoRVIdW5sfpbuKSlY89qEM6C1sWF1up/KLjqOhutjIXq2ccclCfXZ+dcrFc/37CVPX0RSciUkE87xByUjIF9hV2hd9nkfcIisxBxG7DQvAj2BxQAAAAUUGex0UVLCP/AAAWsywqDUVLAPKRMTipRIJIh5R44MBBMo7h3Q3uX+SRdER3piFgBa1iXOizhSFsniBe5zZ2tbDA2sBzVWeRjG5pUr5TQUg+DwAAACUBnuZ0R/8AACPDCz/9zcT+RA/LcpJXcxKidjvzwQQZMXDE3p7oAAAALQGe6GpH/wAAI78EJ2C++sD/y9mfLI1tDj6jyBpU8RzI1RxatYpmC8Qox3MmwQAAAF5BmuxJqEFsmUwIZ//+nhAAABpY/5p66wkxIJUZw6ZO6DkKmO3VMrtekRm8krmrUPhan5o4ShQfHAADinqC5wUDueQIAfvCFfcJx20QT0CE8wZfIcLfXwjUpP7HLSJhAAAAPEGfCkUVLCP/AAAIbZnNbLYl4Oi+jp0Xd9dmImGPr1szFWVVtcShkjVTjxKSWACFgBVWGCJCBL1x8iLZUAAAAB4BnytqR/8AAA2CTueBPXKEU3HsDZ4CIzR7/PIKOTcAAABzQZswSahBbJlMCF///oywAABGAs/XBtABHvTF/oB+B5HY4w6ZyeL+omwKfVkqYmMrkaowYKoXSg+JWY2gg3FH6fXs+20W4R9yLCNbMpasXiVasOT3KK1Vqd7DguwgyLczu3VeqolWUySEfRn3nP+qEd9pngAAADhBn05FFSwj/wAAFrUrOM0uUnnfBc14jUXT1jVlQqMv2X1ys5yAFrWJdljEJ8KT+9c8Vy9QjRn6gwAAACwBn210R/8AACOr+Fwl02wFGGGtkV7ly/1tUPzEF91PRRMs2A5QDo6VP/+Z0wAAAB8Bn29qR/8AAA15bypIlh2nAti3cR+CYBDhunY+L3lwAAAATkGbc0moQWyZTAhn//6eEAAAQ1S+vl4yJ2xHtE38OEvPXC6zt7vwrHXZkJ3kwTunZ7BtWulbLj3Aw/44dUjGymNLPTRPnnZ5sTeURbnaSAAAADFBn5FFFSwj/wAAFiVfTTNr570p1lbJN5UpkSM347yC1u84ct9a+C5SIGUXxSNHHhw9AAAALwGfsmpH/wAADYJRacUESF6d0DI9mSL9Yq6O+DK0vDgOuEUKMiX55BpQ9i3HCFysAAAAiUGbt0moQWyZTAhn//6eEAAARUVBYEgDhq1/zo8IWLn78gM4LPTKG38Sy/S1Q5tnYXLOeXBM5nYWMvRz0URYytEPt837LU+wWBK54qHYl7jijr4XvzBRksTbOEy9lY/K+SYSqNOUgzXNy4NQIM3TBZWW74Kn6t3tINcm+9xQM7+tU+EzwwWN8Ed5AAAAOEGf1UUVLCP/AAAWuTjKXbVAFb7kopZZXAsJ2pezMOR3zLXCRMDs47ArbdBNiILzRF64bNUOvbbgAAAAOQGf9HRH/wAAI6v4W4HeLrUNzZdIe5wR3oAHKsxCuRmUa2n+ggsl0086o61mgfGT2VYEOUhJb1akmQAAACUBn/ZqR/8AACO/BCv6ifjnp0JBD6AlJyZo8PgGX7y9/vAqdtmBAAAAakGb+0moQWyZTAhn//6eEAAARVXo0RyTtAEHpbdhTZ4FEJnin8lmzT+cPxCCDKleiR+OH+QtlfzPRRxrisyKmijroRIa3Q0We37bBA0WmZ+EYmqBwQvvZEdZ0SE4a3zjjTBgGt9/Jixq38EAAABGQZ4ZRRUsI/8AABa8NeTuU2ThB1gAaP31riRICguVrHq5teTn100xTQzsq01q1QRhu2608cG07CYUgCfpU6Q9q/LW9tRtmQAAAC0Bnjh0R/8AACKsPn44j7HuADdaXzanHMBLHNLZqcUnrn5GuDr9ocavzx/MQEAAAAAlAZ46akf/AAAjvwQnYe3ImXeEljm505iHNPqEqPE+1CLQPE5AQAAAAHlBmj9JqEFsmUwIZ//+nhAAAENJbWAFAMw/RgxBX9SNwpNAL93ntDsyZW/7dF+sve3gfy6pASXovIQkYu+of5m6kAyopDjYzYdHLL4TwaRHOGCdV85boJizoXdlSv1Z9Wj1EOtJKjNQP3bI/QdtK3/nd7MzsEknxrFfAAAALUGeXUUVLCP/AAAWLFC4Odn8BBnq9JYpgH6xrLro1fvxksqRM01EIQT440/BgAAAAB0Bnnx0R/8AAAUfy+0/wokVKJq0arObmeyzpZKKCAAAACgBnn5qR/8AACK/GNYtN6V4eE4ioHXkuNkb0Rf1jPGFPYImmyEbb3JNAAAAbEGaY0moQWyZTAhf//6MsAAARfydzAG3xGiCImd2FS2uHN5OIXHRH3wFKQXCzMonrpC594Mwn/ULZrkzUBpEa28Fuq9TCv/TiGdM9WvjizXDqEbwpaSICAKuIydJfZ7IH+KSFwfLad4zBijZKwAAAEhBnoFFFSwj/wAAFrw+sXLi3OlqfZq8n3ACR+Ri0j0WalwtefPqqh5f5dZN21N/0z4Ci2eoP7RDiOoQzz0Ix2ajSChJEvgA8GEAAAA1AZ6gdEf/AAANh7OeJVkEL7SbawzseJST/oyt/lAYNLvTDP3MwAQ+5atFBgvS3mXsx+xPbMAAAAAlAZ6iakf/AAAjsibaWRYJtV9PqgwQ3higk3ipwWm3pgc3oxiggAAAAF1BmqdJqEFsmUwIX//+jLAAAEYUX7kwBP9ir3QyLd2H/U5Zo3NfflLKFPnzgazTJbbj2sPTyjtfKbCz2s1l2d0yhHhINrAYel7Io0ZikjeMwKCo+CV39IYIRThQpaEAAAAqQZ7FRRUsI/8AABbAVoIISFvF6iFCeHUObeN4AOIGWI0e/6IRuvP1abZgAAAAKgGe5HRH/wAAI6v4X/p8OJHrJgjLzM6AKuxPy94S0EVBjmVXj4wEx/fBgAAAACoBnuZqR/8AACOz1EAIyLg9Z+aZXGFqfjKxghVcaVRCKAKMUII8M7q9a8kAAAA7QZrqSahBbJlMCF///oywAAADA73/X7eY05OghaW5X7KYmwA0VxqNfGEicxRJ3QP82xK90KFIIuP2FJAAAAApQZ8IRRUsI/8AAAMBNa+GzpIj2Yus3UANy0abu9nZYcR8RmUJjDnooIEAAAAZAZ8pakf/AAADAeXJUv6sj8+o8kyx3ZiggQAAALBBmy5JqEFsmUwIX//+jLAAAEYC8KN3AHMO+SBcKR/JKLi6e86M5rXvFZN1jtL1Vjo6AJQ92N1QvNxDo3h4A92d2xMM/duWcgPb2zQYqwRdYR3TnDwmLMLVlIcd9923bTzt1j2lSsdPsOPD/vKHCrNeHnx937XztAvfuGZQdBNQKVWf5+TSNFCZg5RaF5wTNSygzpsL7NLu0ctnmsYECq1kDC34iQ/fOUBldW/8yyq7oAAAACpBn0xFFSwj/wAAFrxDzbcWg2Ojgl5NrgGiiKJHTgUdRplMgtkmrQ4s9s0AAAAkAZ9rdEf/AAADAeW8cT872YtXMotB1xqQAB6FHwWGGdxPh1+DAAAAJQGfbWpH/wAAI7HMCW+pcPs0lBphWRZBpVy7MHEMxoHY6ymM5IEAAACzQZtwSahBbJlMFEwz//6eEAAARXBxkSOATSj6mFHkAPPX2SlRJaSDK9DDaDASiHPqXyP5k120LXWs+8wuuaDLZutrOOc+3G4oQfBtWuxJip4xQ2Q38zm37bqFD60VxvDfm1QnjN09llq/nVp0AKT895jIlvJyXCrVa7Y7hMo2IaONdBK7sioZgBrHGPB+BEWb0kd8izkDM5Pj8B/yD2k6todIMz2FmIvX0fagsRFiITOtPeEAAAA9AZ+Pakf/AAAjrl5AanXFktIsUanmOMxv0spSCAM9yN3hl1CNyPgAhrPxmtbe+fW8aKlnqFcJZhYN1bj4MAAAAJtBm5RJ4QpSZTAhf/6MsAAARiXBPDMT8dg4wxtuSe3depNpQBCPJsK8va6O/aFlwNLMflOW0y3il6OKKPm3xALA73zxdTLNUvoiWGidyZLJn8imGFPkZUXaq5qd+eKLyRpE4dCbzjdpx3Zp+tR9qPKcOrdCpkG33m/dw83+VzqwipR+ZxbHdrqm58G56THP3kDGcEuN7QgWxxJL4AAAAExBn7JFNEwj/wAAFrUrOLtGNUGxJcf1eYXYJ9Fzbvv+tXqdmeZ7uKTBVhck8nOJQASLdBwtyXPdsEYsGK99QJ2xMcvDo67s3JWKF8GBAAAAOQGf0XRH/wAAI8MXZCNZhyDQyUukbtyh5n1LNd0q38TnbFkFogno72ieJlceitXiX5PptU6BQiGPBgAAACUBn9NqR/8AAA109zGnT7/4FJ1U7tsNUumRJ6IE9zxnGSCAKtuBAAAAp0Gb2EmoQWiZTAhf//6MsAAARiQ5YO/sYAWCi4Sa5x9WLzx0ms89r0zUHzR+lK66V+Pou+1ig716+7mRxl1HI8GMEXO5rQV5PmdgJp4txa8VYFxSLQhF5K/hc9OeGlN+lh8E/NrUkzD2V8GkLrig8E+lmEbBc1oplEHcipnu9PBaAc5bI9WYVF2+QTilo5Xl1w0C3nXW1l9P7L28Bot80sJ3yNWT/n6sAAAAWkGf9kURLCP/AAAWqltJZp8Wycp4Qobo3W2Mwmj2Kaot1JEfY3+GX2GSVdqoA7e0q328apS3MlcNE2SNwx8CYAp9GhibFVV17JifzwP9IAFcESVp3u8MsvCGwQAAACcBnhV0R/8AACOr+Fm4he+z13mHfmPahocnhNRCSMxiH6rMvlC+yY0AAABDAZ4Xakf/AAAjrmAB+XcDhYltbKSRBO7Cji8CdzHur3Yw2iOtoOz4SyezO2o7oAJojCNrwwCwAqBjh1l2kDMXQwrhPwAAAH9BmhxJqEFsmUwIX//+jLAAAEYlDaGhABx7TKKNjTn4Zm/vdRI3/2DUwHT2pc0g9r/RoORPDbqLwXmBQtdP8c2d+HZpMBo/K3y1RTTAbH3q4a2jqyODc7hR81SqRn2OnP/T8Od/7gqijh5JKQu4I9zu9IJ2OSfqNd9TKSTE98MxAAAAXEGeOkUVLCP/AAAWu4xqQBHWbCqfYmSIXlEPy5/cRNmaTpVlyb7wrHPz1qCo4kH0Yx8aD3SyrW2+TaHDtUXpzpbEcQDPlpUO/rkux7aaYzpPY10pnV4uNyZE5N6AAAAANQGeWXRH/wAADVlus8HYNpZtU1yd7MT9bUlPNOrLHuRYOAAWfEYlrzLU/S5+oG3+q7iRYDegAAAARwGeW2pH/wAAI8cr3vRjro5j6fU7angii22cgghulPDrxzCiKtn4CR+sWuwyJjYzsW6wAma//aI/BAc1tLM3CbqeJkAfCxwXAAAAc0GaX0moQWyZTAhf//6MsAAARjzbrRalKIAiQmnJ3PomdnpKTXheSa6g95iZc/B4Ga1QrYUpeYgBZ/VOJIXqm3wIz6HdjTf9UQF35b3yv7EmPHtLlQHB46GT0JAyTGhOPyl0TsVQbAUocCQ40KCpaVuioJgAAABOQZ59RRUsI/8AABa+ahy4AEY9uQY9izrw6J0yNsfUQaR5XJ324144OKFD/FQF69xuQ9mbLO89KPRhMheaKI94lEy/jWP6kPNX7abksduAAAAAQgGenmpH/wAAI72EHfzffXPY1V7SkZzwv8PjwPVM0dP7sbmgBLDOS1rlxj4KhY0HK0aaMxnLQjQngZonNkpM7xMNtwAAAItBmoBJqEFsmUwIX//+jLAAAEh6bz0iGABFqBPJwnXhB96NdIDzK8fI/VIWyc0RWAX7GGkLaorIwh4cGy1CLZQZo75j8mR8/EGw92l6EM30ARkpLkz2pN3+v7zvAKmtK1MYm4FIr8Yghf/KoSS5NREtN4TjjlZgawRHBAlM0oO6CNHV1fxG4Wbol+eBAAAAZkGao0nhClJlMCGf/p4QAABHRFoenBd0k9N2Acsb6OGKfyzDyyG5cCS1ACEfMQQJxDPDsfDD3VTRAhry3t/Qn/q73s+N0wNaS0xZvdC7bhmquCMNI0x00ZlsqVe/4qnq6IbXNPwlnwAAAFVBnsFFNEwj/wAAF1Cb8qoXGz2rasS17o1iU9Y2gy+hkWtea8VFT3NHnCRqKpaXeg4O44qn/AABuhrS9c74pWqrimOfOkUEksvywhcX9WEBuqxmYZ24AAAASgGe4mpH/wAAJLItdGw3RA+yj3HjKm/33NsVLs5KvU+ldw0w3D9xz1Fo1/jTDhCQAHzaKGXr4kdkzsXciwM0lvTaR1ijSzWlZDO3AAAAkEGa50moQWiZTAhn//6eEAAAR1DeFiAM3okewqf1BKYyfZMJ/0Nui1dPIIhbX5alj/20I4DJI5K6bnkb9ra8QBC8TamJNNrUSCLKPg9Ckl+4A+WPH48Ggv7AljoA9i95Y+SCqmfdYKpUMNeZsGzPQm+5NDfzko1dU6K0YOxT2kzruUxBF6p756P06IzSQPboJQAAAEhBnwVFESwj/wAAF0Kr6MBQAQOBuLsLzscQRCxNU1fFadyQJwyuY3exAR2ZAtkGQF/+1gvnh7m/ngM8y03FsnWyMGpw8lHsJgEAAABPAZ8kdEf/AAAkq98qwDTYigAip+l7T+ctkzhc6/F7d55cgdpl12qWdomZPqB2vNNqXN2Loogzo5demHoJJRm60+S/+5Ap6gEObXz+RsSEmAAAADMBnyZqR/8AACSuXtC0PpENSoxVBwieeHal1ACWcX/2YO2H1S6WnmYnpzc/7OdZqUxZOvEAAABUQZsrSahBbJlMCGf//p4QAABHaKoSuCsnj35411oa1QiXV8t9FkOSwNqWlaN6002TzyIZbwC34Dxkze6VLRdr8liv7Bot/Lt3GOA5YFGjSxw/ETVQAAAAMkGfSUUVLCP/AAAXS1t10qrxmQnYkNmeNozJQKyeX1CSNUMJgQaa5j+xhwDaegIqideBAAAAPAGfaHRH/wAAJMCZH89lisoWsy3PgFF2ptszCBTuC9HhgOUAFrP8Gh4Qzh+5bP3D59ifh8/dbS+G6MvvcQAAACMBn2pqR/8AACSuXtC0PnIFkO+9p0J6PQnag1qp6t4O73U2pAAAAINBm29JqEFsmUwIZ//+nhAAAEd6RGGznoAFyqkaxO8J7GrrijoPLwH0gvtNaJVPuhUeTa4W6zGgBr48Y3OwJ4dR36IfEjX35z4pBNWuYkWSyoAvHDeS6XQqC5H8XkeKkRDaeYLBAHDGpsfZe51tkcS/GiVF7PlO97++82jvxeziVCjTsQAAAFVBn41FFSwj/wAAFzrVZ4im1HbWph/LLqRgBa1lH6LFsIHqkKXM5pLrwtS1FVvfMw/sZSPJIuCgUo0I3GC7IRZRYNwu8Fk7bcQ6LyWkwmE8cvS9ttSAAAAALgGfrHRH/wAAJKnp20ypgaGqynqm2ID76lpiQXIXwcp3HHvMh+CyLXoR3t/xdqUAAABGAZ+uakf/AAAko1wDGpg2odgAlj81aU42srVU+5w/Rda4kUdwKYEU6t55RwrvtaQwaEfK+f4JUQJx4i/LiUvaJl13qnVE3QAAAHdBm7NJqEFsmUwIX//+jLAAAEoBXy0WNa9O/ZCmnyuN2rMAE60TA409YnO9zEqtFm/b7QsosSXgs5ghIO1vJRQd/tTu5YiwpUsxD2iPvWNOMFpVuibPp/rNKgzxPGEXj9e+yyvWwi2cFMb7tVXhIrDOYN5TSfIPQAAAAEJBn9FFFSwj/wAAF+17D1Hg8DSjKJvYyAQXT6zYUSiSKL0/L3fSZxuMFPleG6lsNroWAzFVACPikyUfrZ1KO0spg9wAAAA2AZ/wdEf/AAAlwuzhg4aObcaF/nGcl7ivRccIda6MwN9Ec9bP99ubmlWhZeH58Ku3G6QpUrNhAAAAQAGf8mpH/wAAJa5dVOHYuXhD6mEGXa7dNVvYJxiGFLtA6dYDi3Td5LW1x2fvc7S4oACYz7olP+L2ZaHEMWCOrUgAAABoQZv3SahBbJlMCF///oywAABKEJzmDACw+lokGVZujT8ucsdPD23aLeDUz6Vki1gw4N03NEKq4PK/OoAaXdVLnCK1tpcnzJMJ/NP4Ca6/JQPjHqjdav33bXSDhoNY3fRk0CFwLvuVi2kAAABAQZ4VRRUsI/8AABff7B7qOqAK1A8SWdzrhY0qa//3QsZMviWbh+tf751Yj6Rti+3VWHTL0E8sp3NKHxoWcoOZYAAAADgBnjR0R/8AACWp6ccThXRMFBsgb8qQiF202flxiWwhYGulPSfnXg9V3r2g60oQswG22pKq7nugywAAADgBnjZqR/8AACW9gy7O5EpPdmAsAFp/b9xnThjNKCGQ8djhfvOPsTPo1KgYeIvpPcs/EL/qEsxNuQAAAHpBmjpJqEFsmUwIX//+jLAAAEoke5b4dGRADjD0zWyRkpbtvl3EAzU3jNh8APQFa8K3hh5dcQEyc1YEcEoxLlFM/RxW7E6zIB1InJ+fTPcpndKS+81U/b9GzTf5kFych35fCMijB3aO/xZEORz8r7H01xBQ3ua3WmkLXwAAAEtBnlhFFSwj/wAAF+i9NoADjYu8Fuzzj20vmALsYjnkq24nclddiI1vpurrZqK7gVQV6TlDFeS++d4pmjk6C5W9fdXhRVh42saMuSEAAAA5AZ55akf/AAAlxtnWY3SZSkkPR4wAAlNa4xmt03Xx3twDsKP6tijqbWI9OD7hbL89nRdykCDhv5SDAAAAoEGafkmoQWyZTAhf//6MsAAATHpvPcrjWAA49qsrPtURG5wSkL5a0Ce727c8UhxejVc7DpOmP0Cmi/bcSf9Ggimfz34peQXvKUDKdeasd10mIOiMLNOGaCkG5VZ5PSRlFMq8LF765nXUR5TlOLVZgYcPa+gh9ck5OUW1hssydLUG57JksTcqgrOMiM3NWTC89hVJ2R9JNUa8CKtdx6PldUAAAABjQZ6cRRUsI/8AABfonHLgARkbEsS4pdmBfHfaKOTcN+z105yxKvXZ1jrqS1v6xP/ZWRa+h/7N6Pd4Yx2jJRRFw2mGyt7nh0vYDYuGStiPLHaC96QVSq7rs+D9nf3vB/H05Je1AAAANAGeu3RH/wAAJZInmi67FnHApQwKIyYAJHXEiAlON8yc+WoN0AlGfKj0oz6IjFOz2Et9QGAAAABDAZ69akf/AAAlrl/7OBF4NJyBUk925pUgAshGVQho1kkVCgdA5Tek4Q+CimHCee93p+ad3EP18vAJNa2m7kuHnO1nwAAAAJFBmqJJqEFsmUwIX//+jLAAAEwBYOj8AKBLRk8KI+OrVwpgpXsjaW/SoUREQphkG3ylATqEJs+4K7pdjKleOtKZkKF456fPhzQke8lmF3HGUaZLiDyz8I4fWlN8L6ZYh6gycL06uwwTT+ChR2nO2TnW+7Nw/lwx181/fOaclZdN6IDRJEuCiyRPHX+TrLySNNdBAAAAU0GewEUVLCP/AAAYiGMa5QuWLkfTRZuMsv0wAJ21jRjkJ21M92qkKcg1hIOFnZT8L8npn9eNQfIBH4LJzrExISfkXwj6/TsgJQ5EYHMcICpmY93DAAAARAGe/3RH/wAAJr/7ZdOZFdEeKdR3zf1XQQhdc0lPvBvitmGCyO4Rh4g+KfUFm4gAQdUH3PQ2hikJBSsO0jHKucAlJ2ypAAAANQGe4WpH/wAAJr2DLs9OHeJ2unfEw3idUUk9z4q/luAp/2+JFQxP7rneApTjyUCmrKDJ+s+AAAAAbEGa40moQWyZTAhf//6MsAAATBCPLEGgEzBBTZ7WCUOJc7w7mOmGoAFtHZddMSq1OptzkXUxDgv2Jc7Oplq6eWiqzrPXMUCP9yy3gGFg+wywn5J49Ej5OOAuVcJlrb2n0vFt6RQc8RmdKazgKAAAAHtBmwZJ4QpSZTAhn/6eEAAAS28wQA0uXBDRF34t4kXOivrkI+EhCXtpM4Cdbjoi74TZWAsLwiZ0IpzJubSdFDCkpb+z3axY2rDpAMKI1Vxe1UbKEe004qE8xYs82+nS8PQl6Csnc/At8olYBMw4egDUwa41XuMDMigNSSEAAABJQZ8kRTRMI/8AABiIypRkj7M1MPUBFgAbjcehzpmySUX/uSJArKAaq0wWB9Wc/ukx7sO/bCFuYZiR25OdFp6ZsKxvx0TgJ/W7gAAAAEUBn0VqR/8AACauXjOCMer9y6nZqsEPpT6JjMJsnQPk4thm2jnasrYO1a84JTTSAAe/JXT0UxKk/gny3RlRSCJneg/5u4AAAACUQZtKSahBaJlMCF///oywAABMAT9XMALD6lCLwKgmSroxt/NPLrntbPflIjiz8r8rHOlBnIuM+7kBKGX7SOasGkvQQI95pxeXjn5C2HwVcV3EHehmOrChTPVUhGZOMGj3NJaLv6xdjklA19YAC/qpGqzgOoQWPvU7pm3rYB8X4DZNhgD9hB5amdidDbieQKNsNfYTqQAAAD5Bn2hFESwj/wAAGH/sL1fm80D4SMCbSvdUbic0u9bvLB1SfKM5dIgjV9T5k45ULkGencdSplhf0VVWVQZNOAAAAEcBn4d0R/8AACbAmTJ8sz1ANzJRAFJthY92WgcK1otYWGosXlYC7+niEALNKsPF3DDeY4RcxjiGAE//Vh0Evk5pBejnCqu1QQAAAC0Bn4lqR/8AACauYAUVSQLcqUch68hXZ++CfRzX6V3qHloZdDzlX2DHP65Aq7kAAABnQZuOSahBbJlMCF///oywAABOFFM+hACfB3hUE4g0LqKS7kS88Zrbj23ukA4cZA6TFZSOUlvdNYkEtcmwZ6TiLt5e2Kp39RIpvlBvybsOl8Egy+8zdjDhMbSLc2O/MFANm2Voac7PoAAAAEBBn6xFFSwj/wAAGSl8w12jKpt3kYvgAPOBz878ijPw0R0GlvWXwAgMXXRkx1OX6SAuVW8BgR17qC90XPomUtapAAAAPQGfy3RH/wAAJqNeULrG/vxyGDQE/QwZ718TNgwpOUl7/Dr1Dqouks9pIAH7jvHdaiYtOn4HOtyxf+KqGnAAAAAvAZ/Nakf/AAAn16iFk4BXJ2T00reOXazd+xnY2/cTDly3O9EmtfvReQ2h3gb4G2EAAABlQZvRSahBbJlMCF///oywAABOFFBOEAJ+XeBQkk0IzFw07K3CA3+66mTXALW0VlN5w4MEYCAiDZrOAyGbDh5K3p/Z0wHfjMEKNfSKWdG+KtFuy3XW4UVEg5kxY+4ABzeotEUYzmEAAABSQZ/vRRUsI/8AABknCPgA44cKQJRxjMPDE/ADo18pBYDz3Ddpt6c0OxkZNnWN/lLSpX2mtDm4v1jX52dMSFpDRMWHs91wsunFGmxjc6euMBT2LAAAADEBnhBqR/8AACfFU9M9SND7UshiBhTL8PIZtJZT7W3sOG9gqy24UeIJ6fYIqSL5IIGAAAAAZEGaE0moQWyZTBRMM//+nhAAAE1EWiJdOXl3DlGkOy77sQm3dGRgZukYKXmhSSGFyuMMvPHYlNqB2Oh+1AxJBR0IHvIgTnlxJxb/7Ol2JigQPnhmirVlITEjg3EYqeUBt5lHxYkAAAA6AZ4yakf/AAAnxVPTPN3tnsFV7761v/fjRsbdX3IA5ouxyf90XCxYoBACaYaHA1jBOniG9lJRdzkhiwAAAFRBmjdJ4QpSZTAhn/6eEAAATWPA50lX+ByMev4g7lEQL88KngRrOZH1215YAa0gUyj5F8fKLw6IAbGaiJfqXvJEMfGjEdCkK2Zs5VOvWSh1AhSymEEAAABJQZ5VRTRMI/8AABkaTwNYiY99frpBADdmIvHi4dvEffk2LVoCI1cvLdnTnSqjhT5HGMXpxmRAH+Pig7KQDDPZ6K5CFY5nDKQOsAAAADEBnnR0R/8AACfbVlBsEPrrHkQw5zL18QnAkClM9dARdJlzlMAl37Q1yJudJi7ndpTbAAAAOQGedmpH/wAAJ8VUg1LHDcMppavOK8Ve+0zfiNbQa9siJQvMKOV/w7UNUUvKWAAmPQvuhEDUluIWBQAAAGNBmntJqEFomUwIZ//+nhAAAE1Unv67AA43qMlUBKtjDHS953IlajRA1NSFNX+jchRyaIVz6ycO8y8jKMvDVcTH1sAWl6V4Fk8AHnZk49Ui93JNw946Myf73jLvPeZheXkxD4EAAABQQZ6ZRREsI/8AABkgWpMAHHrCSpxd4GrNvUSFnzMYhE1XmvgYUo3Y5MuCZwniQDi0pa+7JCYzYxzU/z0Ly9wdGoeXdHRu2ROgx5r28dWVY8EAAAAyAZ64dEf/AAAnwFikoqqnVd24iJZFLfG2Nc/YmnFYsw6tAAe9aGqn08RQPpwtLkKBx4AAAABIAZ66akf/AAAnxVQQB1h6/wASx+aI8cbWEnE3uqhKlyKTAOhc3aLUXKK5ofBgDWUEWF0yGPr7dzzJBGJNHlVp0cuKv61y/2WAAAAAc0Gav0moQWyZTAhn//6eEAAATYGMuZUCrqUALZ68FeLVivmhefgV3kS/eTz7iuTyyvTseJWr6ncDQT6SY92SELiNM4b1xwZTUzHTriM4pXvVlYyF8z50fhpUeLhafIzQYaFXNEY7toY+d+YuZo5uCBsySoEAAABAQZ7dRRUsI/8AABkP5fG0fpYAHeZF0AXCdKLvzZ8lJSFZkJOGk3sN/VoM3vaipKRxpyuWp3t221jUH1XK0hbnwAAAAEcBnvx0R/8AACfAWZ115dgAkcLfR9F/VAeeGQ8naQePQpE01xkgHG4eh+fHaqO8uHMeIi5tLtz7OsP6Hh1g+i6uNgPhDf9jwAAAAC8Bnv5qR/8AACfXqXxebQASx+Z8KZsGRni7/WOhHY4tBN4RQKPs4kA5y0PzqEGY0wAAAH1BmuNJqEFsmUwIZ//+nhAAAE9rClznypQBHa7VmU1MtxIS8fppf5ZtLN7Cjj38kBuX+JlgzSoaFhVGtECMvoGmpS9ppMiTrXrzyPdsLnEE7eCgeKlCopQjpehOmuEgOn2Sx15E87XNTF79cEj4HX2JAndLS3ZlBvCqrXAZEQAAADtBnwFFFSwj/wAAGcCHtw25QWgBLaizUTLnq2rPUNcw87vYcPOgE0U+QlbzEGKNwui5n6fzDXbtsPjPgQAAACEBnyB0R/8AACj7VyYoVsmryxe/cAHHrQQ9xbxF95FpBlQAAABBAZ8iakf/AAAo6YBfdtwAOCzb2WbgUCVlNdngIorK7Lm3qpz8eDb1GetNg5zMXVOftYoCKqIGO+7ir6xVmTCnZYAAAAB/QZsnSahBbJlMCF///oywAABQWECXMAT/7m0cLRN55P51ThILAb3+G/4yzUgqGrJtLd1jtORe2nLOAe4G5NSTmyA6q7bABU7SAZvmp2rgGtegtUa24ggMHuTr8rgAPT7IJmz8nCgZXEiZAmSblDIfZpoucrI0XktOpGqmf0CigQAAAE5Bn0VFFSwj/wAAGcibbqboJ/CAFkRTPfDDrtkKTQBlb7Zaw3oLKxFspngRGiLgzSvVEiMTxqiFurbmWkHhWFHREz5nAX4iFhc3LTetHCAAAABDAZ9kdEf/AAAo+1cmKGS8AC6iVrnGlc1zFAFKMdUCkS0c0qvRrrfb7XaG4bjECZLCGenyP5Y/Bfkgpx//HU1VNuHHAgAAACgBn2ZqR/8AACj3qOeP3vAwEA8Q3V26WDKZz+umlfvXWUzgPpRrfPsfAAAAS0Gba0moQWyZTAhf//6MsAAAUFNUMpGzhkJcUIMDE400P/w6KOIHTo24n/KYYeHo5IJahL+sRiFVA3hQgEmJyaAcWutgR/kheOxVmgAAAFJBn4lFFSwj/wAAGbAliKrpFaucUYBka09K25iZNWlntlGw5mYU5NaCxckACGhWzo3ZKJzJ9lJkwJZPS6SNFdVLWlxffc6XaNtisRrsEmaKz+yxAAAAOQGfqHRH/wAAKOBYNQDeHcojcQ2CjvFEoSBQ1F+IV17qelKhACy+3re38jagWfGhTrUQ3xR1KEjxFwAAAEIBn6pqR/8AACjTlNBF5cNXvSABdRK1ZchxfOZkL0t+iA/H1+0f30YLSUYP7U3r/0GhwsLeirqb3H+4RTIUSo6LWwIAAAB6QZuvSahBbJlMCF///oywAABQPNLBABBOkVTpB01gpIoTfkklmWxfEDcxRzc8atOl9wYG7amiBOEscpOEMNZB0YfT5Xiv9/DIhKUJS4IrNZOv2k3sYphk0s+7SKWkOdwszDqmue7VYm1ZBVB8Y4Rz7yLvwr9MfANe2dEAAABhQZ/NRRUsI/8AABnAh86nRKMJWADgNyjWx0B+ivHEcj8X+V6+A4dU64ydUZ0wPHGi7apsKaVknMSHDJmYHO11j8f7v2q/USXcTOSg1sORDl4zfowGA1IxO+2w9BOx8DzjwAAAADMBn+x0R/8AACjgWE35KJ0eNh8h8czJDIKGvVi77gj/bQ6V2GqtQVKJC8JYnE9+6pF/2BEAAABFAZ/uakf/AAAo1Uv2sRQgRJw65uQpypqAoGPz1Bn5MENAuBOh7Z6ACD5Ai93atTs+rWzYEmqN7Ecn1bR1fb0XY0QrT7LBAAAAZ0Gb8kmoQWyZTAhf//6MsAAAUDzSb7s7Qm5eSgBJsvnNeNMqN37QSFxxuHalzj/zlRdeZ+4uqtUHV+GSiUn7luz5g+RzhC+NQRsJdpM7ULOX96UFT1Ll+7s7E1qInIU/OaN+Qkt4FsgAAABFQZ4QRRUsI/8AABm/7JCW8U0XKPoThaClPeSb8HYFFZ175MNApccMtUOG4Qq4qybm18sZzjqV7swKLNDTTwMY00iFNsCAAAAAKwGeMWpH/wAAKOVV4fPD85LoWFlZ1uLDZbxDNV/3kN3JbmOhqKC46OSOwIEAAABaQZo0SahBbJlMFEwv//6MsAAAUmrJtO/YeY6EbM9ON05RxaKlzBfI/MQvmuEeSfasKfEwz3Y4IUvgCFiBvD/PPB3ZCSvQpXTHiFpqQz3w8Rz7YKh9/SrAs5LUAAAAMwGeU2pH/wAAKhluOKxVMJTW7AnBpOqmqiDF4RZ1ADp3xg3mz7EHhumd3WSdsIT19OMxwwAAAGZBmlZJ4QpSZTBSwv/+jLAAAFJqybTv2G8KrdZnNE2nfZy92oqRxxshaABNqlA7ty3tOYOHDqHPPWFRtRwaqysLLK5KO8vzxModY6toqNdP5RKl6P9b7R7wQcL2x8evChEbFcV/+iQAAAAzAZ51akf/AAAqBVJ9/tJpzh3AAF0N6/cxVIT2H2zRftgFxPpCT7cZQAE7LwNdW9Sa7sCBAAAAakGaeEnhDomUwUTDP/6eEAAAUawFb4WsAFgpcT/UMtLHPG1I8YxZ8fo+utb8YnjTXhScvosB+klzIFRNH++oQ+m3wn+zgfMqctGfprYqYO/A/ILPDMZZQWDJOjS1b78WpX0OXGxE50nl9YkAAAA6AZ6Xakf/AAAqBVSDU5LiM57SmzWPTH9/mGiIRH5TM+jkNpA1jsAAmPQr8H3aYLOekUWL6bN/mtjAgQAAAK5BmpxJ4Q8mUwIZ//6eEAAAUdRpGzQ+bAAuoG3zzJD7teL3VywzWWPBQa5JGFe2da1+1UEvy9QpXYb8gQAa85iMneUOVXGf/8JLFJ+X0v7NfVREYIiECal9DhGsVtbABApEJF6gMy8FEzuIOXPUBziRn1vP4kVI8ob3KeVu0I1cEAFyEU0Qa1EwYYutVINdAqdxBwTOP//eTOwq5eIcYvHVt7Wk0+L2HqSWqi9Zai8AAABVQZ66RRE8I/8AABpXPjnLe0+wzMVY9kOAOXh1moMD5smJsnG8f33Yfq3ohKGMWZB23S0HWE+s1hDKSgAkW6N/a60uHva8/VTR/sqRMUt4x1ABO6uVMAAAAEEBntl0R/8AACoanRx8wjWZAZQdbRTeVfJpYVGE1W9zbpDOQcPrbJ0p6MXpcWJ9W5np//OfS4sOt6pSdPQKXqjswAAAAEYBnttqR/8AACnzjES2VgTjzbn+ByH2WsRlnJK2GeUgOc903ymcrEeBOEYyGpTJROkxMCZvXM4qVQPT+AEnCx11DUxYb5EfAAAAokGawEmoQWiZTAhn//6eEAAAU+uCloADoaC3l6RgyTb7nLHjAUq347t8CeFKtCJRQ5wMTPOvq9C0faeR9w0GshbZSMS6ykRBdV9t3c5YAlE0cOXyap/wznwm9qGnzsn/OcwLSq22vqKk+38vONG+I1y1UV3JIkwAFWFOhQplh59xGO1SGlcbWSQmyJUxIkF/oiffjKFqCNy+r8WmjNlycQ14kAAAAGFBnv5FESwj/wAAGwl4HLYi8L/DgiWvz5nytMTRovlBbTTJcjcGXJpAvH11wrW8pswq/Y9CopUmywcQ3SiLpa2tTS/PCAAnLEMfDy4poUrc75gyBxVR3yxksxzFYsGkYMCAAAAAQQGfHXRH/wAAKX4gNSkDQBY5vuALyYSOMQl84piHoYximYpdGoU/7HWhIN4TNKmd3/8IAHuPDppysj/sggt0VT/BAAAARQGfH2pH/wAAKzLWdngruMeVD1gMJXJ1vAdna/Cp/sc7yGJn5sVxgLeejVDrvlAeeswLx2/34KJlceI38oV9s1QZY2jDAwAAAKNBmwRJqEFsmUwIX//+jLAAAFSqCNggA49qqaByifK1hltveDQM6C2CtWMxSetspKo8sMmadKS37ttIlFFcdBNTrdN2YinxQCIRW+1Vp8m6cQXBri4/pExuVBzF7GWljZSphpGnX5P1R8Lkyc5O7UvfQqQaShd5bzTTCKqewwloylHpzvonqbj+Pjf7MsBgyLrJBBA/kMnEDORXkefIbUfs8ncpAAAAbUGfIkUVLCP/AAAbC6YCF0JSGqAKxZEU3ZUnpnUNzUjMb8z1g42FZ4pw0dtNP8v7WoolA4pSME7GY+Onb0eBvyACU4rjiHQuH/EM/0DpDx/wOLmf0q+ME+rVAXycsoN+Zo+tGiDVDYKKWH2a0mAAAABFAZ9BdEf/AAArHosCQA6I988P9L7YvlpNiIG/wK34i6FjoOTjUM5m1sJ2VMGwbrEL+PET5S/rUglc54clOg3yu/ARa+HgAAAASgGfQ2pH/wAAKwgj23e1KeE6Vai7u+LTZd8rglugwmT4rUHzWLycPXjgpMqEkvCrKEp5z+2pFAAlRJv5pgeQf9c3d6zqweO1NsuBAAAAfUGbSEmoQWyZTAhf//6MsAAAVvGZACEepQlvYj4HOXC9gPF9fiDWOI5/Tqk25VNx8fJUH+hdT0TAO8LC5/pbsXkBZOLu0QjVeqsBF1YjdCKTBe72/4ULMDYfTf2sAujTVRrEhEGXfw6vFLLNKRwd5JioaQ7VFQKdToNJcgeYAAAAR0GfZkUVLCP/AAAbqYLNtmgLxdp7sfJpfVsl0ayzbB4q1+U6apN2b4TdbTiTpiw4WYkf5tvKiSS0qGNcHVRd8CI4dXMW6QuHAAAARAGfhXRH/wAAKzqdKDWnbERZtjnkMAacZG64RpZwtqqgmaYR6SObfjtktLFb2YD14DiLgATEGs60qVA6oa+AHMAlW9uhAAAAOQGfh2pH/wAALFmBkUqSjd1uDF6daVY8kCpm3AmDa9YT6Xt+Z7ukwGl5vJ10iVxTFHLc99x+swOqmAAAAFBBm4lJqEFsmUwIX//+jLAAAFbqybHzKOnjDUegXvf51YCOuhEACd6J83dOREwym29WeWQALroLvd8vHLTa2tPeyF2NH0SOyaBfhP5wto3MuQAAAkhliIQAP//+92ifAptaQ3qA5JXFJdtPgf+rZ3B8j+kDAAADAAADAAAVt6RlhkJ0L/JiAAAFfACyBdhEhIBSxvCoEryZ/CPIKQCZO99JBt3OrX9kUMaCimLj3YOSs/4/DVvQRYKd1UjjGfBy1Rqqhbscow+yTZTUo1chqjuhWsPXNKGFAtnTcOnhBP8kvzrcbZcLEXFO+22+VcWgPwGBszUTa1gyTFBj29HQR7C25NtNjwk93PSBD44HUCdgbTLvaZkChQZK+F+SqDv0IyBDGhVhMiDkSXRRAGCpAhjwp/dEWLo/qGYbjI6wuRMLwGlIyHUrdzEWy6wtehhOpZAKYvd/Fl9viCEpdx3cX8NQa6OF25b4BZgL8z1Y34LirD6jfxP8C5LxNRfcaBI9Iq6BFfu4JxeADwPDhqWPtN++ACELCCmqnNroakpG6MwW8KKd24O5Lug+c7otj7vK2anwd860st8PPU3gRx8VETXbxnG5k60U9cBkNv0qy8T1TehMMBQLf1AII/E9ae75x8cVGlM/j8/Zn2UF5AkXCBT4dV7cZtobdKUIBhCmHXIfHWr5NKL/4LUEJ3TN4BqwihUB40mCgHGXrYD2/YtnB+orUMsM4tL9HY1q+aGBtlUuzPAALqcy8WKazz7N83Cxbch+/st7v5fKywzGoVLSX++MclczohaP31mszbkDJhGzgAJhV4NpgQbivgCWG1sQ41S+DyJYpWOurH6yv7vCbtu7KwbNhmygNSTLbjpA9n+NTlwFsgAAAwAAAwAoYQAAAHRBmiRsQz/+nhAAAEV/0lwAJ/J9P+Y83thxp4lPMg1deQ9IMqeiAyKWKXeXIynsTsqyMRiMAqzfl2HOsudytzbVDXjNgLhxDtD/PtPDl6fbTMjDKC0qyYahuuSj45f4z1WJqOwQdxR98utEZ/O177+ZtZ0N+AAAAEhBnkJ4hH8AABa+XQkCZ7wyGjtkfgO9IDl57rAkAD34pCRymMoXwJFO7Gun71/EXbObKaTraS2TQv74VSCA/QDjRZfnwfya0gkAAAAlAZ5hdEf/AAAFGh+lzaYlzuov114MSzSUa1VMrEKUYDmMGjJyDgAAADsBnmNqR/8AACOyKCl/e9KzLK+sbs6KsvziwiNlPtp3ABD7mnxUQ3IlIRURCmNpwA9K3a5QF61vQuJJgQAAAGZBmmhJqEFomUwIZ//+nhAAAEVSPcgE0H5WYwWYSHqAMVbsQKsq/wKDqZprv435v87hmO9V/k3XTncJv4BSBUVi4Y8Iw9umodzvRwUGTQSL58swXF5GECSh8zXPPj2/30ymer0FeoEAAABMQZ6GRREsI/8AABa8TiUdACaYSSeK49dmrHqBB+p8w1FEcqFL0BoeThVn3JcNaDHOimbkOEEHDaho6ibFf5bWCGoQWN4MVRtNFqVSoAAAACcBnqV0R/8AAA2HwohuAuv4kLI7R2RQuaa9SLpKqE6XuY+EG73L9/gAAAAiAZ6nakf/AAAjvx9BZ60yB8dPY5O9YiNmI1yDV8G2xNAWUQAAAHlBmqxJqEFsmUwIZ//+nhAAAEVlQSL6g2nyX/MOEoAd2mb9ZWydQAsn36pEA0iwMLdBaIHzUUut/zwHYO8qTibJy+jn4wHCeL1ddTX9lgLQBKzexuEozFAuBLVz/yz1bywZRjwWriejzT87ZZ2FPhrAn3Bqxfg6WH4jAAAAR0GeykUVLCP/AAAWtTfKVUAVhnG+oSplPRAVu5ZB/UC+fhYLtljeo1r9wcrVwdiwTP5R7/A3H3nTUx135N/KlhhlTKW74W9nAAAAJQGe6XRH/wAAI8MXdxQ8I0C8Prs/rzTZJcPjbksPjJWOwUjqDPgAAAAuAZ7rakf/AAAiucIU/vbmIk3EYDwohCJikmmwYdcn9AcGt4DuOvoH8TXzf7KUqQAAAGJBmvBJqEFsmUwIZ//+nhAAAEWBjYzOQutmbhy8P/3iZjuAsvKRHg9CHO0CkttmRqLMEK1nvpSlqeETWdgsw5hNe61/AYzrJ0p9cP0wPLv9FzebrHPg1I8DOjsBc9QGEu5r1QAAADlBnw5FFSwj/wAAFm+XKit4i7Gi6iNN4qBw6Z24GU+XnX5430r6oeAD+dzsXIm0VB6J6RH9DAuc5IEAAAAuAZ8tdEf/AAAjq/hbetGiUoBql8tUvgfPIHPEG6fQQ4K1M+8poAPw+lKKbe/MnQAAACcBny9qR/8AACOyLHEMzmRktagkyC8ubOhWOy4K+kqZ9yEAMHQcYgIAAACMQZs0SahBbJlMCGf//p4QAABFSJcgCJj7YgxRi7EwTKmDtKwFbrx4Njo42vlGZ/G4FSEnxGSsg15Kx1AVK7YdMmI6C3n89vEJtkGNLUQbRoZrKuQbTv3tqtCGKPy90wEXP/X2Gcda1BYjMjvGYctPU8MCmLayqj8+gA0jvQd+UqNn/D53BrsiiGyTF1gAAAA5QZ9SRRUsI/8AABa1Vn7b5ZxyuwBKJBm7sz16XUYQzK/eu5r0xgKpKfz1lJzM6C7f5XHpXi9XhD2zAAAAMAGfcXRH/wAADYfTh4DQ2KSj6Nqu0Lc6dUK+8e4ZXiUuOA4NN0uwRQnuEqPYjq18GAAAAC8Bn3NqR/8AAA1/to8UgFF+geeVCBdZSTFgSL5ZSvvPG26Tr6yzCEmE/NCl0dZrbgAAAGRBm3hJqEFsmUwIZ//+nhAAAEVUkA3wARgbh8Kh+TCrhV3ykZfJnRr4huC3syvbp5DhHMzJyWAAEJwkXOBbo6+jvCHTQgB2WLDw5vT95FARbHvXICbyt0eStD/0c5ivsPVuds9VAAAAMkGflkUVLCP/AAAWvmnhIprWrCU4jUOU3mI89TfpvoSBnwBos1OpBTEmOVpWLQITlvpBAAAAJgGftXRH/wAAI8CamIy+oWGmpd1qWZfYJmx7nU6kOX+Y805rUwOXAAAAJwGft2pH/wAAI78ZAo0c4W3kp73N0QzDFIiizUTKVH0TSh8o6/7ZgAAAAHFBm7xJqEFsmUwIZ//+nhAAAEVDgWkACLXJqjGL/FsWtrEC1V9vjAV7HcN4j9FyQ0mdO2DhdsZCAGR+QFvpF+g9t2EBqUzcfarCDX+mmOajk3Xx8kxIA0F1yOHAcuIxjUcogmyCYokOz3GZdq/m6Y12sgAAAFpBn9pFFSwj/wAAFqSzgXxvUntfmRc7IpO8Ba7rrkgipwa+mvK34GjbZQywrPs8ievzw7PwOAEsPJFGs43yA8WEb8KVFgJRgBAxiQHNM8GFOuHXq455Cin3bMEAAAAxAZ/5dEf/AAAjqer3qEWbjiJBqW2SMeywW3GGICBxyQ3/NTo0hHmD/OSexmBhgMwrbgAAACUBn/tqR/8AAA2EEsRXAlRJnepvSAwCxyoS97ykESEH203jb+OAAAAAg0Gb4EmoQWyZTAhn//6eEAAAR1DKoprL75tCzUJhkXoDnlRkeIgAQAcZqiwTFKt4HjnhVy7EHtRW334A1sx+lcQQDgcWxsCOs3bI4BQf0Pz6NO+qI3ZUZxUMGyVcMxzWFy8kktHEGcr7+dvWo+Lj25iERAG3N65UFSnpqIuJ9WXD0VgxAAAAS0GeHkUVLCP/AAAXQ0e3DbsSBzw06M6nYd7nT1vTtc95Etc2s2hgqcOPANW7M06BFYAJnJdwuyUKnl86g8vzQJyB4fepIDS8Mx+jZgAAAD8Bnj10R/8AACTBcoQBtf7e7kF1+ywSWiaQVKNYXbmVeqs9ovLEKuMNh8DzHSG8F94yIjwVsaqpvmEB1+i1bcEAAAA5AZ4/akf/AAAjvx+LWJQhb6+tTaZAjsrztN8g8z6oN2QpCA4xXEj/ZWblmd33sz38YIt3+vBevzwZAAAAl0GaJEmoQWyZTAhn//6eEAAAR0RaTAVaAEe9WqVTydoJmwiNPZvj4YGpLh/Dc2bj2aYg4e6ihqeXR1JUvGKQmUWF4dA+6gM62s887rM/xwHQr2fpAhxB9BlVN0fP9WyskUlHvB9aHg1NYwhk3yY52WoxDMRtPHBCCNnmaIWe8rtiIek4dkCH0qdTyUyIwOED1vyRzAwGVcAAAAA7QZ5CRRUsI/8AABdDRjX9sSvizCjG64GovGwifA5KL7zaqeTNYMQ3fmXsPkzQquBW579O8qe7oXc17AUAAAA2AZ5hdEf/AAAkwuzhfz9ztuSX2aFXvo6TVicoSCn9d91+5eQUmXKizW6k9IiKgopYmulRK34MAAAANAGeY2pH/wAAI9hcwBEuLo/EJ9QkAOOD4sIry+fv1zKjwMJT4A4ylMDu6n4r/2+bh8nspeEAAAByQZpoSahBbJlMCGf//p4QAABHaKNlJp2ZL7hw7nOoOgR9S1WisWYIAjchyOZlTj2g1LINGi/2ClknXtmXvCsTPO62/0DwXcLQEu4NcGvSZERxseyc1+8B1/uycwb73iWa/hTrEXgYZRmOZxqvzTznVRdBAAAASEGehkUVLCP/AAAXQqvotEkBtDAh7tYUA8RAO7Y7gjbxUw8HsamkUSzKAHIVsPt465u3Wg5IQAra00TJaSf6tUPpVUZYKzY+9wAAAEABnqV0R/8AACSp6ccUDUuDC7/OmsV/eS28il9s7W728XqsHLBmroz4AJpc1TkaChtnlQI8P9UDh7FNsQYpK+pAAAAAQAGep2pH/wAAJK5eM39cIC0Yj0d2Hf5dK725GANH6546QnTTQ+WOLyPUAAEPnxWCHgs9bePvil+8fyrQtx3Ha8EAAABkQZqsSahBbJlMCGf//p4QAABHQ5BvgAcWlO5DKgk4IKrsLc8405NSdjincI9RlTibe+YWF+dY7b/dy6d+fUR+r357nRn/2UlAlDE6wDAzyhAzcBK4nJ54vhNQPjFGRZYv5XFnkAAAADZBnspFFSwj/wAAFzpXjFZUY6NBlNp25o4mXaVqYax1a7b51ABt0ShsGkwyW1wYXz0pr/EX618AAAA4AZ7pdEf/AAAkwJnd56JIgCtw1afMzGoa1LZ8z6nYMwJ4D6YMpGRiaF0k9/KACbLtlpOGFG1O14AAAAAyAZ7rakf/AAAkrl5pNH6hACzM54URpmtXwZFXRb1JtCGCd4QBDtYphpZlNKcjCSQVteEAAAClQZrwSahBbJlMCGf//p4QAABHfxf6olOvAA43q1SouPpu107DjR0M8X20jQ7la6RVzjUNX7FAntyZlrZ44sXZjVg7HpbCMh9vnLeUIjfHELwu+lKTz4WUFqN+d3xrKAi/E1ZVFLnUE78BS3U5jdo+SK44JMzd969ZKWgchTyJ0VtDxd3MLLhy8J32NMzuvetb+nQoKua5bP/en5ZbQIjvg1a4ehiBAAAAWkGfDkUVLCP/AAAXQs40ABGIiZ32MLrZoUjTFg/yOaWeOh5wPcJBfkfB0TCMrZ7ZIvZFRIEZ89szEWBtxezjFz6T8Hr5jLFMwBuVcz481KfVlamYCu/m8wOhsQAAADUBny10R/8AACS3zAdE5gVACTBUlNQtRu5zVJxSvZ1WSBXFdZPXSGqR3DuTfpQCk4SaheRFgQAAADwBny9qR/8AACSuXmj/zIZqjIZLnAChWB4WQYiKeO79bxwXyxg9FgASxc6qV8Y1X8aUc/yfiXZ7uUz4bcAAAABwQZs0SahBbJlMCGf//p4QAABJQ9P6nl+jyx8AEWTzq4V330kBsxad5LyG2B7y/JLWuYXScUBkc3NhwFqtiPhMrmuzBHpsfrxuEUtAfbRaONzZiRTKg6rHth3ThBHNVsBZ5QiUC6r0iBb8Ix5woICYaAAAADVBn1JFFSwj/wAAF+mC7bAByNXwUUHsAvEOvAnqhCjyKc9liP/p5XvzC+wOvpGVryDuxedagQAAAD4Bn3F0R/8AACTAmqGzOPIHzh6UdAP9Xt1d5RDjV1ELctYutOtl8AEqLJS23gDaKYsm5i7k1BKJwEh4Hq4tpwAAADYBn3NqR/8AACW+6brCFulDPtxvnw5VoM60w9Jg3DIIrTNBQVhM3gCUpU5xb1v/izcijpew+wYAAACYQZt4SahBbJlMCF///oywAABKEJFJPUWaveNwBu12FU2Lfm77bqEzuP2VXoArfqUJbzKhXBWD0zZyASj/M5X77QX/b5h/s0mQm47b0TW3hgwvm5AX3uxFKOUajRSqyM6n5W1MaApMy2X7r6nx8YFf029pf/KzSXHbC4Z93a8cyQpbNDhtyiugIzbRKcmtKCBrvMWHEjMQDtMAAABQQZ+WRRUsI/8AABfgl0PgE1JYbH7CKWsn5X9b/3CdsfhNA+IosCo2VoZ63cBtaGvngUbU4L0k914MM4u8g6byGmJcVauGRa2a5ffN7iR2DPkAAAAtAZ+1dEf/AAAlwJfI8NJfjwuvWuq3ZjCwxx/POBY4a44SeFQPCH1N8NLyjWDBAAAATgGft2pH/wAAJb2Dgcm75KE8kCSm5ljW627IHfr/B3Y8K5jg7tWEKI0oxjQx3fWpjXWH+R9GF0fdmoAJKui+PFRY64piYoDosiN6GxdnwAAAAK1Bm7tJqEFsmUwIZ//+nhAAAElEfRsAHNcmh7/vawD+JE/KGd3lRlMd8G6stJIGyprjeBH5APUCWPbltSRGrymO8918Z1eO5W3Np3b6QZ37du0+R8g+setRnag8gZ0D9pI/65MEnYNuxfkhNuzkHf3xnzyQDSKFxaPJKQtzuziXQB1YqKSWEXzVfrBBv/9YNJMiv4y+gcftgp14igcKNgdp1IqDaPJiUbT9tScmhQAAAFRBn9lFFSwj/wAAF+jKp1Nx1BnxE+82TX75l0pm5fgchVtb6iYkE8R+FKq5iPcyWxkmzGItF0vEsKFZvceQ7sOBaAjqGoADaBxeQC3lG19XZWkwQYEAAABSAZ/6akf/AAAlvu0S2hktLhyIedWFfnxCK6AOUm52zBHN16tydn5jLrtOoDHTW/9C9OeMu9Ygfimbq1BqJUm5eYBsZAATBPgJw0rHJ0kOuhGyoAAAALpBm/9JqEFsmUwIZ//+nhAAAElAeGKAE0ghnW92xR7SbQxf1wUiEv/kmZ/67msZ6X2U5STQD244x+QuOq1zqAlQ64MzZVIZyZ7pMKuI/dEWTjcBfksI9spDVscTOIWbhEBEFnGqycjeR8v5GRzihlKeWKbugveLtveqAxYJVrJG8dyDXtI9ELycCOXRbSQJW6ouMRYNccB5mrJ8jxf0FB1tsilLLiQN3ga9/5mNrxTKrB2qE5qxXL3i5IAAAABpQZ4dRRUsI/8AABfbGB3+AEeVxlmW56WUYlcNU8mtjQgwisamS7Wd2dZwD2N17jm2uCNMfPc17f04eAjDQX1DnDuP8sZUq0DFDnzZmMP3oMRoT3L24x7e4GyPhzt+i69oYTTn4pE1seV5AAAAQQGePHRH/wAAJcLulIeVL/R/XLohe0pwaLElvhlVCxlzjcDx5LZYKPsvm6hsjN1aaFcpn2OuaCk7njjTS5o5S2fAAAAAMwGePmpH/wAAJKN4HYSYsZxPkAe+W6HeZ6K6eLRPuaz71bQ2Pd/Nf2ZPDfc+EItAgncrhQAAAIBBmiNJqEFsmUwIZ//+nhAAAElwfQHAAc15oA7rBdkVrYZlLAQy2JonWlsCUDPztrRHr/WM0eB8WlTh+3Iaj8X7VbdEwv42RQBDJzTyKCPZ469yWx+jp9A5lSQwXBF2Pu04nV522aPxRkMvL8R8DY/JCGZxpFLt0ySHEDF7eJ6xVQAAAFNBnkFFFSwj/wAAF/b3gCsVr+MYSszjJkkxAphUlHZQ64ESeptQT/vwjPgeACZXpqcsi7OMzRCktvrs8AGARFPZO4cLtCR2jYg6BdWqsUIA7L0QWAAAAC0BnmB0R/8AACSsQmSfb8V75kHHOHF9r/9tWFlJcl1E/lyzNDfVzgPolaQ2GvEAAAAiAZ5iakf/AAAlvwQmd5u9zB/ZFoAHEOlsRbP/2vI5KCG8gAAAAJVBmmdJqEFsmUwIZ//+nhAAAElnopSAONjKA22IbSt944qjL/Xn4+dmPZQFd10m9TxkWQ+94wXVXk3cCgmhyOKZH0XSmm2FKNdZHOu4frWL8h3Z830XSpc0RVwK0HVw+mdjGcSc11tSiHKuc9tHyWZrWUR0QaXx+06l8bGTKAHY9uJlLrSov7l6upv4EqJO1k3p6jnFoQAAAE5BnoVFFSwj/wAAF+JrMotqnn3ABDD5dnp3Luo5IxNB4iUNUPoRd7UxUbInplXqHdsAZQsDnP/u/4OT39UL7OWb37O84g60paS5GtpFNlUAAAAxAZ6kdEf/AAAkw0b5Coz6VgCZQKsXXpJnvz1fj7yOeqnG7s4/kPtXDUHyTnrSuaXuEAAAACwBnqZqR/8AACSvjgoAcyCuS5INEmGd8ngKlWrUR0FBxITGpqTjzC6L+O5NeAAAAH1BmqtJqEFsmUwIZ//+nhAAAElV6R3gA6BrVI73M8sAsGc6KY9xKd7IUNtAbLzbmUVVjdsQ7FeoxrXOUEMn3RHBVuDElQdUEe7otttVQv/+AAefHjCIZ29WCHUsP3hUQH5n4+L0NuyT+jlpIsRtW/REHxd9MreHgFa/9NifUQAAAEdBnslFFSwj/wAAF0xQtd+W6yLz9Ae5jCVnfrVWiiBKq2nQCos84A6zofN5XxLtzy7tDmAB78ImPhWI/LA7ZJ+IoOB9eBac+AAAAC4Bnuh0R/8AAA4vxbBuzhSuGPhzn4llIK4NPITiJ2lc9nRVcbzy7IaxnJPkr+4RAAAANwGe6mpH/wAAJZlyiATVlndCb8abUEdc7FVVeLHnMgiMFesymrx8o8t2AQ8MY/uYBmVfmOO9bKgAAACLQZrvSahBbJlMCGf//p4QAABJRYjDgCsmZX/nku0iZAllyENiHp8l/uJNw2FtuzVowZIIr6LSujo5rRCveoNy0acb00Tzc/t0/THqjRHv/niOKnBGvk0LvYaEMkDgk0tKO2pRtps+r70dYJIe0B8yajaXeck0w3wjZZGOF1baZK/mj/f5OB8xDCdy9wAAAExBnw1FFSwj/wAAF0MsrkwGrjMqckUCxnN6tjISl+IAbEamVJsq4Sj+tYnTnEhuHeLkihp0p8ZJdTumFnVdgo1d/adrPOjcgkt5xnZVAAAAOQGfLHRH/wAAJcMXZCWeByOIjqhvaBeZgNKuBVAEY4FSzseACtsBfyVBsJ3kv2+9z+D46u04/JBHPwAAAEcBny5qR/8AACXHMnoKWVA2bwMXVqLUkg3f+4wLfyE2bu27fh6g3g4rlzkLk3NSoAJ0w99a9nDR/63tVgO2/dKDF6NLMFlWfQAAAHpBmzNJqEFsmUwIZ//+nhAAAElUxjnhwBEL6EvVJhtmue0kdW7ycg8ClW4ncT2p+ru6WvfKiMqjUptyIyLgkOpzeVhrshVgnsZVlzZ20Q99NkFDSiMv9ipPaXtNZcykFmMcHsiojfmMPDsTc/dtoAS0h+i5iPTQ4UsjcAAAAE1Bn1FFFSwj/wAACOtKGwAEi3R4FTgTH02XdHLDJznv8jqr9Ou1OpTjbX7uGE0tJVdws1GtrILMK1hkjJKwKGfO3nIlcfEOag9FjpT58AAAAD8Bn3B0R/8AACXEcmAIjCCu7rWC65b0D4oOBJ3IRCTwWiLqp43C44zR/RtvtO//OvLN+6bzLSLDz84Jbc+NctsAAAA6AZ9yakf/AAAOJkqH4AyABc/u395m5ZmzGDvlgBRLGXsJ+iezv/MxHlJD69yfjz8Ec6nHNe4sLEXZ8AAAAHtBm3dJqEFsmUwIX//+jLAAAEoCFc0ayKyCIBqVeT8q1rc55ChckxFhgvj51lqfDxduGfyqJT4WPRnsLuRnI61QZNljs6qDc4EazSv6eSRbFmENe1aHAhPT2n0JFU3a/79Hm08rzMl3x+3chErQ38p+DswEhPC/8WlWynAAAAA2QZ+VRRUsI/8AABfgbFRqgCI1WZJIPJ0QMj5P38JuKDm+0JwVJeIGCYn+dCRkGhMn88aIXPvxAAAAIQGftHRH/wAAJbCjCK83TAalAHrJQhzHGGK5K7Acf09nwQAAADMBn7ZqR/8AACWxqoqQDJRDOPzeyHcn6wAABaz/BoeDXJbxbP3D3umzOrP2u5I7eIYPht0AAAB5QZu6SahBbJlMCGf//p4QAABJRGoiXTltlOOvyFBwHHzoAs+z+zjC91Z8rHIFHgNxCn9GHaPCnot5ZnsXF1tf4zOBOJXe7DDtOTAC3GxLb1BB1PqsMQqI2ANzIM178FtL1nh/qyKRbLaMD7LQ3A15Q45K2lUqvVu1kAAAAEBBn9hFFSwj/wAAF+BrtQZGiZV0NqgBbwXR4FF8yqmEOI+s91Cu6kuvIZdcrMPxzx74LpdnzYO+dXdtJQIwuTusAAAAKwGf+WpH/wAAJbItOOAd8AWpB3yWbz7ESi7y0LNEPvMPwBUOoz0F/V/hd1kAAACPQZv+SahBbJlMCGf//p4QAABJum862/+iAEe9RkjpjQAIPdVysnz2Dme5vIMdSTLv0zyVRi//cse1Z2DIC561OredIiLvIBDaH/vRHtqmwvOO5XJDnXjLDzAZ3dWrM6u5QUWJz46plIITUTY+3ZqSPTgtt8CS8qZHRffg0xn5LbJdP92235IN9mQkqiTy/4AAAAByQZ4cRRUsI/8AABfgayt3Rd/yhHAK4V9+lwsNNTxI852q/qMbsICKOXSO8NhVkWd0soWYHAwTPeHJOjSMyNWpQei6cLclz3bBblNJJfiXMxDy4Um+GQ5c9TrPyH7+5MR9wPPOmYMnG+HDJuORT5ROeYeWAAAARAGeO3RH/wAAJcLstFmloSLyFYYMO9WljRsPbvYe6R5izRJU0uusHn2d2PsTs0AAD35IOKIM4AS+vzZWtdNPmYfxAbuBAAAARAGePWpH/wAAJb71GRHaoA0X0ocUDPx8+hrGTB2YO1ySFoh41NCjXYi6KkmRACgn72RHwAriYfjwFNTjxOK6vlCE+HuAAAAAX0GaIkmoQWyZTAhn//6eEAAAR1DgVMF/9xLDEglVYDE43gFvCOuKBE53SfL1P7wtXG4/dH5V1YU8fICo5IP9XjOoQC3iuCWa0wjWkT2J2o6tMhgkG/BhaY4ESWXIC5olAAAAP0GeQEUVLCP/AAAXQyyDNO303PIp6oZRRdoe7g+e3cs2ig7bTIzwKk+ywiNQsALW13me/ov6cCiDfklhSC6nzQAAADYBnn90R/8AACSpz/p+TBU/j/303g0cabqKZSZTZtBHwQlIYwNHFb4dABMQazuTPpE54OSZsqAAAAAeAZ5hakf/AAAksi05FdWGlss8Thl+Vt9a7cP0nnOPAAAAVEGaZkmoQWyZTAhf//6MsAAASAIF/iiwg15RFVbgtuYvHruaTsGcwKGK12LAasZXxy6Al9jpG/ohfiCvo1gIw4Yu5BjJTAOVh9pEETiRelFLuMF/gAAAAElBnoRFFSwj/wAAF0MshfzV8SV+gomqqRv6kwCVsRAGlO90wwVkaP1KvH/dZ2ja2aMgVZbwv6yhZ81m28t0n0YlxsDJWUcg673BAAAATAGeo3RH/wAAJKw6Ehw4agAt4A98nbHU4t18Yk2nvn6Jx+JpIHZ69pUkzLXSFce49DO96wlvdjJYUPT2ugYMl5z1aA1mryfcczzbIsEAAABEAZ6lakf/AAAkmXMHd4KwgALiYS31NQpotJpBkdmwDCvnN5U8fCHPoBxaetR3d/650PGvNo0egbWLlifj6MT35bx3LXgAAABjQZqqSahBbJlMCF///oywAABIJdzmf0Py7dNGB925I0Hu7WIiHoqAg45vwUFxl0qUVJPvcmQAJ1Ce+S3Z1b4D9qwGOL1kufEZCizxCPAHnv7HWnOBRAYUjW6ss36UieQH8l0YAAAAVkGeyEUVLCP/AAAXQ2f284B0dL2a/e2uWHXGowJkndOVwnJY4uoBy5+Gn2en7Lgs7OLEX7AahHJK68+ojV2Mj15GN7QAoPefmwu+Ixz6/8fw9yghlytfAAAALQGe53RH/wAAJLf2A4MzEe6c+9+447Y/z1nOGBWobxmoNR1eKSMOPme+l59WvAAAADcBnulqR/8AACSyLewjMCIDPHGC0ODn4xSiEFguBTrIN3UAITKg/cQVTHUMBsOwbFb7wHRFed7hAAAAlkGa7UmoQWyZTAhf//6MsAAASClh5cAPjQCjfBH1ShHbA1R0or0Xoaf5WZn90Z6cPEQtFGujFnKnNlYTs0kw+TfMNpAjOGowWW10TTUmOwG9/15aeTDodK+lkQ/C3CVsw28yXVI7K61kdlCYx3n4Sa9d56iuhI0WEABgMRYj2hBbdNk+zJaViL4XkOjy8xHK3oynKNU7QAAAAD5BnwtFFSwj/wAACK/f0yOegvBYOOedptzsFYhEY87aAxqT8tCpdDG+AAJjZqoAP51JYN3Kn6+LzMOb3SdqQQAAAD0BnyxqR/8AACSyJtpbd3j1s0ikm7+lDjgEueKvBnmUGuCkp+IxdNaRGyADFgAJYQ/gxT6PvhnqDGg8nHXhAAAAvUGbMUmoQWyZTAhf//6MsAAASBDLMjLADdaIVOVLe9EoFkc3QDPjiKh32locAytl2YoSxEiM1ATyMEMlWjYMmEbmRURPlqkpt3Ndp7R+pYDX8UgcaD0hepBdATgFIJVGN5DteQ85/9iNkKmreItZOcSxIzlG/6LuJSPf0vQqGB2oUJ/9/7sNXP56UvIXI1PVug3kC9oUjh+22SFEvn7FDhSh68R810WydXyCUMHlHO0TL8ZIvFqDmhfntuIL7wAAAGJBn09FFSwj/wAAFzpYWA8V4ArUccXeLVKhV1nyUo25IVtyq3oAqpM2cIbBwi3RWF7mgyQTF6Q7fdoZWkHN/mBzyvFKKidXgcD3/+kD1RpZX/mXQgEA+eGJ9+q+i6HCD9puSQAAAE8Bn250R/8AACQ7gJyFyKARMP7Lvd4hKodqynKurddc8hUYRn96sDXln3+c/ShD7elNkQULCUCUsQt0jLXP4ABKchEVoJ/uWfPkM8cLDmzAAAAAOwGfcGpH/wAADdJog+reXSsnBISELC03YscL1hK3JmC08TD7hDoghB/pq96hdswW51YgBM+/6QBznp/gAAABCEGbdUmoQWyZTAhf//6MsAAASH4l+fdAKDLsPZOO3eDPbNS/pygwGDG8sNQv0fxvS6Ck5ileGPbapudsLd5UtHKm8O6TgC0SERstyFaD8uGSgYripr7JvYTUe5u3ziRPQUbIUpyprSe+NJpOW11LkIDfmRTxoFaGoy8L2UM1Qx2ZK7eH1RbiYU9jFL+HHC7AqsjwagB1gXoHWyGFkwPS2TVxvJdIMgGOhYmlmDbTG7GFl0Mrf64yRY41b+pVhX1modQQZpD4kD+o+YIxcWs7qVaL3qBFmNb4x7G8qaOR7mNu/d+EGn/Q3BhptcM+UkgwFl/bpehxBcl9dlZSZ1hUMPbCbKMyliuYwQAAAI5Bn5NFFSwj/wAAFzpY1SlrwByeMHWBrnCUSV3k/hMt4hUhTP5EPE3Y/rxiIX0AxeqZz888eM4I4EfEud5ZR4j6ajwfoOJu9x/EFKKI8txtenFia7Hkt5yDpfvvLWod7UtbgwT325L24B06d7oz/kRDsntHekRvG4J4j9s5QBQi5qPt97IE8oGIMEWCc1NwAAAANwGfsnRH/wAADi1gcIIGWyuGMKxlXcX+xaTBM3WGnWRfZ5hZGyQ3aS9/P4b8DwNj8TliMAiKUqAAAABMAZ+0akf/AAAkvwumkV+RcsdWiLUmQ8Dn3ASDPwatWYbM0WtD6i7SbgFtMmOekZACAqg+59ELg2EzsaFEkOVlHQtzJXsudN1uH45FbQAAAItBm7lJqEFsmUwIV//+OEAAAQ7omtWdD+BT1LQb7vDn98oAbrOPVCpskWWCmQU0oDMuqz2559LXTmdGrxc8zpgETNCH2RGWo//bX76/9eyQ2OZplHvBlI0eeYgq3KtZCVhN4XOE8w61/njp2aIQM5GPPMqcPwg75vUUNn7/8QUtdAfbUWT3LZp9U7iBAAAAQkGf10UVLCP/AAAWvEPNfqzhNzyt65fqStbstdP7LyKCLXQgAXzCMcqtc70fMoNdcXMajj/sm5qT7Tp/Hv/j/4MV2wAAADgBn/Z0R/8AAA140cIU7tnV0C0gW6RurQAtcX7m3zZ0r7wox72kMs6Du+rSHwJxIYkSYHvWjc6NmAAAACgBn/hqR/8AACO/BCQ5hljNHSON4rrfoWHj4qGwmtlOq6WdQabQDm2oAAAAWkGb/EmoQWyZTAj//IQAAA98Y7+vRoBFcPZqX9FpSTjH0GaQQoF7iuWzEDnqjAC26u4e4+YSvq8zTkxdi0nqDqOHk/O7auHI4ol8lTfN6v3wDIQFYqUsfjIWQQAAAC1BnhpFFSwj/wAAFixQt39WZTUnTH3rTIkWGGl0HkbWhD3FfkFQZX2iaKvyw2YAAABFAZ47akf/AAANgHEwCa9CqdtYhn/JnelNcUjQSWC8zo8XL529bGKeaE/UFvWBHdknRpjQE/DUyB/IIxNjbNPoHIthaNmAAAAZx21vb3YAAABsbXZoZAAAAAAAAAAAAAAAAAAAA+gAACckAAEAAAEAAAAAAAAAAAAAAAABAAAAAAAAAAAAAAAAAAAAAQAAAAAAAAAAAAAAAAAAQAAAAAAAAAAAAAAAAAAAAAAAAAAAAAAAAAAAAAAAAAIAABjxdHJhawAAAFx0a2hkAAAAAwAAAAAAAAAAAAAAAQAAAAAAACckAAAAAAAAAAAAAAAAAAAAAAABAAAAAAAAAAAAAAAAAAAAAQAAAAAAAAAAAAAAAAAAQAAAAAJYAAABkAAAAAAAJGVkdHMAAAAcZWxzdAAAAAAAAAABAAAnJAAAAgAAAQAAAAAYaW1kaWEAAAAgbWRoZAAAAAAAAAAAAAAAAAAAMgAAAfUAVcQAAAAAAC1oZGxyAAAAAAAAAAB2aWRlAAAAAAAAAAAAAAAAVmlkZW9IYW5kbGVyAAAAGBRtaW5mAAAAFHZtaGQAAAABAAAAAAAAAAAAAAAkZGluZgAAABxkcmVmAAAAAAAAAAEAAAAMdXJsIAAAAAEAABfUc3RibAAAAJhzdHNkAAAAAAAAAAEAAACIYXZjMQAAAAAAAAABAAAAAAAAAAAAAAAAAAAAAAJYAZAASAAAAEgAAAAAAAAAAQAAAAAAAAAAAAAAAAAAAAAAAAAAAAAAAAAAAAAAAAAAABj//wAAADJhdmNDAWQAH//hABlnZAAfrNlAmDPl4QAAAwABAAADAGQPGDGWAQAGaOvjyyLAAAAAGHN0dHMAAAAAAAAAAQAAAfUAAAEAAAAAHHN0c3MAAAAAAAAAAwAAAAEAAACPAAABeQAADuhjdHRzAAAAAAAAAdsAAAABAAACAAAAAAEAAAMAAAAAAQAAAQAAAAABAAAFAAAAAAEAAAIAAAAAAQAAAAAAAAABAAABAAAAAAEAAAUAAAAAAQAAAgAAAAABAAAAAAAAAAEAAAEAAAAAAQAAAwAAAAABAAABAAAAAAEAAAUAAAAAAQAAAgAAAAABAAAAAAAAAAEAAAEAAAAAAQAABQAAAAABAAACAAAAAAEAAAAAAAAAAQAAAQAAAAABAAAFAAAAAAEAAAIAAAAAAQAAAAAAAAABAAABAAAAAAEAAAUAAAAAAQAAAgAAAAABAAAAAAAAAAEAAAEAAAAAAQAABQAAAAABAAACAAAAAAEAAAAAAAAAAQAAAQAAAAABAAAFAAAAAAEAAAIAAAAAAQAAAAAAAAABAAABAAAAAAMAAAIAAAAAAQAABQAAAAABAAACAAAAAAEAAAAAAAAAAQAAAQAAAAABAAAFAAAAAAEAAAIAAAAAAQAAAAAAAAABAAABAAAAAAEAAAMAAAAAAQAAAQAAAAABAAAFAAAAAAEAAAIAAAAAAQAAAAAAAAABAAABAAAAAAEAAAMAAAAAAQAAAQAAAAABAAADAAAAAAEAAAEAAAAAAQAABAAAAAACAAABAAAAAAEAAAUAAAAAAQAAAgAAAAABAAAAAAAAAAEAAAEAAAAAAQAAAwAAAAABAAABAAAAAAEAAAUAAAAAAQAAAgAAAAABAAAAAAAAAAEAAAEAAAAAAQAABQAAAAABAAACAAAAAAEAAAAAAAAAAQAAAQAAAAABAAADAAAAAAEAAAEAAAAAAQAABQAAAAABAAACAAAAAAEAAAAAAAAAAQAAAQAAAAABAAADAAAAAAEAAAEAAAAAAQAABQAAAAABAAACAAAAAAEAAAAAAAAAAQAAAQAAAAABAAAEAAAAAAIAAAEAAAAAAQAABAAAAAACAAABAAAAAAEAAAIAAAAAAQAABQAAAAABAAACAAAAAAEAAAAAAAAAAQAAAQAAAAABAAAFAAAAAAEAAAIAAAAAAQAAAAAAAAABAAABAAAAAAEAAAUAAAAAAQAAAgAAAAABAAAAAAAAAAEAAAEAAAAAAQAABQAAAAABAAACAAAAAAEAAAAAAAAAAQAAAQAAAAABAAAFAAAAAAEAAAIAAAAAAQAAAAAAAAABAAABAAAAAAEAAAUAAAAAAQAAAgAAAAABAAAAAAAAAAEAAAEAAAAAAQAAAwAAAAABAAABAAAAAAEAAAQAAAAAAgAAAQAAAAABAAADAAAAAAEAAAEAAAAAAQAABAAAAAACAAABAAAAAAEAAAIAAAAAAQAABAAAAAACAAABAAAAAAEAAAUAAAAAAQAAAgAAAAABAAAAAAAAAAEAAAEAAAAAAgAAAgAAAAABAAAEAAAAAAIAAAEAAAAAAgAAAgAAAAABAAAFAAAAAAEAAAIAAAAAAQAAAAAAAAABAAABAAAAAAEAAAUAAAAAAQAAAgAAAAABAAAAAAAAAAEAAAEAAAAAAQAABQAAAAABAAACAAAAAAEAAAAAAAAAAQAAAQAAAAABAAAFAAAAAAEAAAIAAAAAAQAAAAAAAAABAAABAAAAAAEAAAUAAAAAAQAAAgAAAAABAAAAAAAAAAEAAAEAAAAAAQAABQAAAAABAAACAAAAAAEAAAAAAAAAAQAAAQAAAAABAAAFAAAAAAEAAAIAAAAAAQAAAAAAAAABAAABAAAAAAEAAAUAAAAAAQAAAgAAAAABAAAAAAAAAAEAAAEAAAAAAQAABQAAAAABAAACAAAAAAEAAAAAAAAAAQAAAQAAAAABAAADAAAAAAEAAAEAAAAAAQAAAgAAAAABAAADAAAAAAEAAAEAAAAAAQAABQAAAAABAAACAAAAAAEAAAAAAAAAAQAAAQAAAAABAAAFAAAAAAEAAAIAAAAAAQAAAAAAAAABAAABAAAAAAEAAAIAAAAAAQAABAAAAAACAAABAAAAAAEAAAUAAAAAAQAAAgAAAAABAAAAAAAAAAEAAAEAAAAAAQAABQAAAAABAAACAAAAAAEAAAAAAAAAAQAAAQAAAAABAAAFAAAAAAEAAAIAAAAAAQAAAAAAAAABAAABAAAAAAEAAAUAAAAAAQAAAgAAAAABAAAAAAAAAAEAAAEAAAAAAQAABQAAAAABAAACAAAAAAEAAAAAAAAAAQAAAQAAAAABAAAEAAAAAAIAAAEAAAAAAQAABQAAAAABAAACAAAAAAEAAAAAAAAAAQAAAQAAAAABAAAEAAAAAAIAAAEAAAAAAQAABQAAAAABAAACAAAAAAEAAAAAAAAAAQAAAQAAAAABAAAFAAAAAAEAAAIAAAAAAQAAAAAAAAABAAABAAAAAAEAAAUAAAAAAQAAAgAAAAABAAAAAAAAAAEAAAEAAAAAAQAABQAAAAABAAACAAAAAAEAAAAAAAAAAQAAAQAAAAABAAAFAAAAAAEAAAIAAAAAAQAAAAAAAAABAAABAAAAAAEAAAQAAAAAAgAAAQAAAAABAAAFAAAAAAEAAAIAAAAAAQAAAAAAAAABAAABAAAAAAEAAAMAAAAAAQAAAQAAAAABAAAFAAAAAAEAAAIAAAAAAQAAAAAAAAABAAABAAAAAAEAAAUAAAAAAQAAAgAAAAABAAAAAAAAAAEAAAEAAAAAAQAABQAAAAABAAACAAAAAAEAAAAAAAAAAQAAAQAAAAABAAAEAAAAAAIAAAEAAAAAAQAAAgAAAAABAAAEAAAAAAIAAAEAAAAAAQAABQAAAAABAAACAAAAAAEAAAAAAAAAAQAAAQAAAAABAAAFAAAAAAEAAAIAAAAAAQAAAAAAAAABAAABAAAAAAEAAAUAAAAAAQAAAgAAAAABAAAAAAAAAAEAAAEAAAAAAQAABQAAAAABAAACAAAAAAEAAAAAAAAAAQAAAQAAAAABAAAFAAAAAAEAAAIAAAAAAQAAAAAAAAABAAABAAAAAAEAAAQAAAAAAgAAAQAAAAABAAAFAAAAAAEAAAIAAAAAAQAAAAAAAAABAAABAAAAAAEAAAUAAAAAAQAAAgAAAAABAAAAAAAAAAEAAAEAAAAAAQAAAgAAAAABAAAEAAAAAAIAAAEAAAAAAQAABQAAAAABAAACAAAAAAEAAAAAAAAAAQAAAQAAAAABAAAFAAAAAAEAAAIAAAAAAQAAAAAAAAABAAABAAAAAAEAAAQAAAAAAgAAAQAAAAABAAADAAAAAAEAAAEAAAAAAQAABQAAAAABAAACAAAAAAEAAAAAAAAAAQAAAQAAAAABAAAFAAAAAAEAAAIAAAAAAQAAAAAAAAABAAABAAAAAAEAAAUAAAAAAQAAAgAAAAABAAAAAAAAAAEAAAEAAAAAAQAABQAAAAABAAACAAAAAAEAAAAAAAAAAQAAAQAAAAABAAAFAAAAAAEAAAIAAAAAAQAAAAAAAAABAAABAAAAAAEAAAUAAAAAAQAAAgAAAAABAAAAAAAAAAEAAAEAAAAAAQAABQAAAAABAAACAAAAAAEAAAAAAAAAAQAAAQAAAAABAAAEAAAAAAIAAAEAAAAAAQAAAwAAAAABAAABAAAAAAEAAAMAAAAAAQAAAQAAAAABAAADAAAAAAEAAAEAAAAAAQAABQAAAAABAAACAAAAAAEAAAAAAAAAAQAAAQAAAAABAAAFAAAAAAEAAAIAAAAAAQAAAAAAAAABAAABAAAAAAEAAAUAAAAAAQAAAgAAAAABAAAAAAAAAAEAAAEAAAAAAQAABQAAAAABAAACAAAAAAEAAAAAAAAAAQAAAQAAAAACAAACAAAAAAEAAAUAAAAAAQAAAgAAAAABAAAAAAAAAAEAAAEAAAAAAQAABQAAAAABAAACAAAAAAEAAAAAAAAAAQAAAQAAAAABAAAFAAAAAAEAAAIAAAAAAQAAAAAAAAABAAABAAAAAAEAAAUAAAAAAQAAAgAAAAABAAAAAAAAAAEAAAEAAAAAAQAABQAAAAABAAACAAAAAAEAAAAAAAAAAQAAAQAAAAABAAAFAAAAAAEAAAIAAAAAAQAAAAAAAAABAAABAAAAAAEAAAUAAAAAAQAAAgAAAAABAAAAAAAAAAEAAAEAAAAAAQAABQAAAAABAAACAAAAAAEAAAAAAAAAAQAAAQAAAAABAAAFAAAAAAEAAAIAAAAAAQAAAAAAAAABAAABAAAAAAEAAAUAAAAAAQAAAgAAAAABAAAAAAAAAAEAAAEAAAAAAQAABQAAAAABAAACAAAAAAEAAAAAAAAAAQAAAQAAAAABAAAFAAAAAAEAAAIAAAAAAQAAAAAAAAABAAABAAAAAAEAAAUAAAAAAQAAAgAAAAABAAAAAAAAAAEAAAEAAAAAAQAABQAAAAABAAACAAAAAAEAAAAAAAAAAQAAAQAAAAABAAAEAAAAAAIAAAEAAAAAAQAABQAAAAABAAACAAAAAAEAAAAAAAAAAQAAAQAAAAABAAAFAAAAAAEAAAIAAAAAAQAAAAAAAAABAAABAAAAAAEAAAUAAAAAAQAAAgAAAAABAAAAAAAAAAEAAAEAAAAAAQAABQAAAAABAAACAAAAAAEAAAAAAAAAAQAAAQAAAAABAAAFAAAAAAEAAAIAAAAAAQAAAAAAAAABAAABAAAAAAEAAAUAAAAAAQAAAgAAAAABAAAAAAAAAAEAAAEAAAAAAQAABQAAAAABAAACAAAAAAEAAAAAAAAAAQAAAQAAAAABAAAEAAAAAAIAAAEAAAAAAQAABQAAAAABAAACAAAAAAEAAAAAAAAAAQAAAQAAAAABAAAFAAAAAAEAAAIAAAAAAQAAAAAAAAABAAABAAAAAAEAAAUAAAAAAQAAAgAAAAABAAAAAAAAAAEAAAEAAAAAAQAABQAAAAABAAACAAAAAAEAAAAAAAAAAQAAAQAAAAABAAAEAAAAAAIAAAEAAAAAAQAABQAAAAABAAACAAAAAAEAAAAAAAAAAQAAAQAAAAABAAAFAAAAAAEAAAIAAAAAAQAAAAAAAAABAAABAAAAAAEAAAUAAAAAAQAAAgAAAAABAAAAAAAAAAEAAAEAAAAAAQAABAAAAAACAAABAAAAABxzdHNjAAAAAAAAAAEAAAABAAAB9QAAAAEAAAfoc3RzegAAAAAAAAAAAAAB9QAABGkAAAB8AAAAPAAAAKIAAAAuAAAAJQAAACIAAABfAAAAIgAAAB8AAAAcAAAAbgAAADgAAACAAAAANAAAACcAAAAqAAAAuAAAAFIAAABEAAAAPAAAAGoAAABNAAAAMgAAACwAAAB4AAAAWQAAADgAAABDAAAAeQAAAFAAAABNAAAAPwAAAG0AAABXAAAAPwAAAEEAAABdAAAAeQAAAGUAAAC3AAAAbQAAADgAAABMAAAAjQAAAFoAAABGAAAASAAAAJIAAABnAAAAogAAAGAAAABSAAAASgAAAHsAAABPAAAAaQAAAEgAAAB9AAAASAAAAEQAAACJAAAASgAAAFsAAABOAAAAaAAAAFsAAACFAAAAXAAAAEoAAABSAAAArwAAAEsAAABEAAAAPAAAAKAAAABFAAAAewAAAGkAAAA9AAAAMQAAAFoAAABDAAAAfQAAAFEAAAA+AAAAQQAAAG0AAABtAAAAQgAAAJAAAABIAAAAQgAAAHEAAABlAAAAXQAAAD8AAABHAAAAmgAAAFcAAABBAAAAPgAAAI0AAABsAAAAQgAAAEQAAACtAAAAawAAAEEAAAA/AAAApAAAAEEAAABZAAAAUgAAAJsAAABZAAAAYQAAAFYAAABwAAAAWAAAAGoAAABEAAAATAAAAIQAAABpAAAAaQAAAGEAAABIAAAAYwAAAHwAAABiAAAAOgAAAHQAAAByAAAARQAAAE8AAABXAAAAiQAAAFUAAABVAAAANQAAAFUAAAH5AAAAYgAAACoAAAAkAAAAJAAAAGwAAAApAAAAIwAAACcAAABUAAAALAAAACAAAAAgAAAAVwAAADgAAAAdAAAAIwAAAEMAAAApAAAAHwAAACcAAABhAAAANAAAABsAAAAkAAAAZgAAACQAAAAmAAAAGAAAAHYAAAA7AAAAJgAAACAAAACGAAAASwAAADcAAAAqAAAAZQAAAEAAAAAxAAAAYAAAAEAAAABHAAAAKQAAACkAAAAaAAAAbwAAADMAAAAfAAAAKAAAAHUAAACDAAAAPwAAAD0AAABWAAAAQwAAAEEAAAAqAAAAewAAACgAAAAeAAAAJwAAALYAAABWAAAAMQAAADoAAACAAAAAXQAAADQAAABBAAAAeQAAAFUAAAApAAAAMQAAAGIAAABAAAAAIgAAAHcAAAA8AAAAMAAAACMAAABSAAAANQAAADMAAACNAAAAPAAAAD0AAAApAAAAbgAAAEoAAAAxAAAAKQAAAH0AAAAxAAAAIQAAACwAAABwAAAATAAAADkAAAApAAAAYQAAAC4AAAAuAAAALgAAAD8AAAAtAAAAHQAAALQAAAAuAAAAKAAAACkAAAC3AAAAQQAAAJ8AAABQAAAAPQAAACkAAACrAAAAXgAAACsAAABHAAAAgwAAAGAAAAA5AAAASwAAAHcAAABSAAAARgAAAI8AAABqAAAAWQAAAE4AAACUAAAATAAAAFMAAAA3AAAAWAAAADYAAABAAAAAJwAAAIcAAABZAAAAMgAAAEoAAAB7AAAARgAAADoAAABEAAAAbAAAAEQAAAA8AAAAPAAAAH4AAABPAAAAPQAAAKQAAABnAAAAOAAAAEcAAACVAAAAVwAAAEgAAAA5AAAAcAAAAH8AAABNAAAASQAAAJgAAABCAAAASwAAADEAAABrAAAARAAAAEEAAAAzAAAAaQAAAFYAAAA1AAAAaAAAAD4AAABYAAAATQAAADUAAAA9AAAAZwAAAFQAAAA2AAAATAAAAHcAAABEAAAASwAAADMAAACBAAAAPwAAACUAAABFAAAAgwAAAFIAAABHAAAALAAAAE8AAABWAAAAPQAAAEYAAAB+AAAAZQAAADcAAABJAAAAawAAAEkAAAAvAAAAXgAAADcAAABqAAAANwAAAG4AAAA+AAAAsgAAAFkAAABFAAAASgAAAKYAAABlAAAARQAAAEkAAACnAAAAcQAAAEkAAABOAAAAgQAAAEsAAABIAAAAPQAAAFQAAAJMAAAAeAAAAEwAAAApAAAAPwAAAGoAAABQAAAAKwAAACYAAAB9AAAASwAAACkAAAAyAAAAZgAAAD0AAAAyAAAAKwAAAJAAAAA9AAAANAAAADMAAABoAAAANgAAACoAAAArAAAAdQAAAF4AAAA1AAAAKQAAAIcAAABPAAAAQwAAAD0AAACbAAAAPwAAADoAAAA4AAAAdgAAAEwAAABEAAAARAAAAGgAAAA6AAAAPAAAADYAAACpAAAAXgAAADkAAABAAAAAdAAAADkAAABCAAAAOgAAAJwAAABUAAAAMQAAAFIAAACxAAAAWAAAAFYAAAC+AAAAbQAAAEUAAAA3AAAAhAAAAFcAAAAxAAAAJgAAAJkAAABSAAAANQAAADAAAACBAAAASwAAADIAAAA7AAAAjwAAAFAAAAA9AAAASwAAAH4AAABRAAAAQwAAAD4AAAB/AAAAOgAAACUAAAA3AAAAfQAAAEQAAAAvAAAAkwAAAHYAAABIAAAASAAAAGMAAABDAAAAOgAAACIAAABYAAAATQAAAFAAAABIAAAAZwAAAFoAAAAxAAAAOwAAAJoAAABCAAAAQQAAAMEAAABmAAAAUwAAAD8AAAEMAAAAkgAAADsAAABQAAAAjwAAAEYAAAA8AAAALAAAAF4AAAAxAAAASQAAABRzdGNvAAAAAAAAAAEAAAAwAAAAYnVkdGEAAABabWV0YQAAAAAAAAAhaGRscgAAAAAAAAAAbWRpcmFwcGwAAAAAAAAAAAAAAAAtaWxzdAAAACWpdG9vAAAAHWRhdGEAAAABAAAAAExhdmY1OC4yOS4xMDA=\" type=\"video/mp4\" />\n",
              "                </video>"
            ]
          },
          "metadata": {}
        }
      ]
    },
    {
      "cell_type": "markdown",
      "source": [
        "## Bonus: Train a RL Model in One Line\n",
        "\n",
        "The policy class to use will be inferred and the environment will be automatically created. This works because both are [registered](https://stable-baselines.readthedocs.io/en/master/guide/quickstart.html)."
      ],
      "metadata": {
        "id": "j9aUu17oE2fs"
      }
    },
    {
      "cell_type": "code",
      "source": [
        "model = PPO('MlpPolicy', \"CartPole-v1\", verbose=1).learn(1000)"
      ],
      "metadata": {
        "colab": {
          "base_uri": "https://localhost:8080/"
        },
        "id": "zIkNjha9E33l",
        "outputId": "6ed510d5-45c2-46dd-ee41-3b6273e9f140"
      },
      "execution_count": 19,
      "outputs": [
        {
          "output_type": "stream",
          "name": "stdout",
          "text": [
            "Using cpu device\n",
            "Creating environment from the given name 'CartPole-v1'\n",
            "Wrapping the env with a `Monitor` wrapper\n",
            "Wrapping the env in a DummyVecEnv.\n",
            "---------------------------------\n",
            "| rollout/           |          |\n",
            "|    ep_len_mean     | 23.5     |\n",
            "|    ep_rew_mean     | 23.5     |\n",
            "| time/              |          |\n",
            "|    fps             | 1268     |\n",
            "|    iterations      | 1        |\n",
            "|    time_elapsed    | 1        |\n",
            "|    total_timesteps | 2048     |\n",
            "---------------------------------\n"
          ]
        }
      ]
    },
    {
      "cell_type": "markdown",
      "source": [
        "## Conclusion\n",
        "\n",
        "In this notebook we have seen:\n",
        "- how to define and train a RL model using stable baselines3, it takes only one line of code ;)\n"
      ],
      "metadata": {
        "id": "MUbeqhBHE9ZX"
      }
    },
    {
      "cell_type": "code",
      "source": [],
      "metadata": {
        "id": "P777cI4XE51e"
      },
      "execution_count": null,
      "outputs": []
    }
  ]
}